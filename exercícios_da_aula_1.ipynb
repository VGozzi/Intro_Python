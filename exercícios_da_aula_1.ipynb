{
  "nbformat": 4,
  "nbformat_minor": 0,
  "metadata": {
    "colab": {
      "name": "exercícios da aula 1.ipynb",
      "provenance": [],
      "authorship_tag": "ABX9TyNftAeiL65zZ19ID+OgMAHH",
      "include_colab_link": true
    },
    "kernelspec": {
      "name": "python3",
      "display_name": "Python 3"
    },
    "language_info": {
      "name": "python"
    }
  },
  "cells": [
    {
      "cell_type": "markdown",
      "metadata": {
        "id": "view-in-github",
        "colab_type": "text"
      },
      "source": [
        "<a href=\"https://colab.research.google.com/github/VGozzi/Intro_Python/blob/main/exerc%C3%ADcios_da_aula_1.ipynb\" target=\"_parent\"><img src=\"https://colab.research.google.com/assets/colab-badge.svg\" alt=\"Open In Colab\"/></a>"
      ]
    },
    {
      "cell_type": "markdown",
      "metadata": {
        "id": "VkQ2PhJw0ee_"
      },
      "source": [
        "Exercicios aula 1\n"
      ]
    },
    {
      "cell_type": "code",
      "metadata": {
        "id": "dKHv-vLk0ktm"
      },
      "source": [
        "## exercicio 1\n",
        "s=(10/1.61)\n",
        "print('distância em milhas:')\n",
        "print(\"s = %3.3f\"%(s))\n",
        "t=(43.5*60)\n",
        "print('tempo em segundos:')\n",
        "print(\"t =\",t)\n",
        "T=t/s\n",
        "print('tempo médio por milha:')\n",
        "print(\"T = %3.3f\"%(T))\n",
        "V=s/(t/3600)\n",
        "print('velocidade média em milhas por hora:')\n",
        "print(\"V = %3.3f\"%(V))"
      ],
      "execution_count": null,
      "outputs": []
    },
    {
      "cell_type": "code",
      "metadata": {
        "colab": {
          "base_uri": "https://localhost:8080/"
        },
        "id": "0ZdTGz4_0wvB",
        "outputId": "daebca4f-b4ad-4fa0-e487-afeb3c57af77"
      },
      "source": [
        "## exercicio 2\n",
        "# velocidade do som em metros por segundos\n",
        "V_som = 343\n",
        "# velocidade da luz em metros por segundos\n",
        "V_luz = 3*10**8\n",
        "# Tempo entre a luz e o som\n",
        "t = 3\n",
        "# Tempo da luz\n",
        "t_luz = t*V_som/(V_luz-V_som)\n",
        "# Distancia entre os fogos e a varanda\n",
        "D = t_luz*V_luz\n",
        "print(\"distancia entre os fogos e a varanda em kilometros = %6.3f\"%(D))"
      ],
      "execution_count": null,
      "outputs": [
        {
          "output_type": "stream",
          "text": [
            "distancia entre os fogos e a varanda em kilometros = 1029.001\n"
          ],
          "name": "stdout"
        }
      ]
    },
    {
      "cell_type": "code",
      "metadata": {
        "colab": {
          "base_uri": "https://localhost:8080/"
        },
        "id": "cuqzZ9wcdE1u",
        "outputId": "1955588b-43ae-4725-c164-541dbe790bce"
      },
      "source": [
        "## exercicio 3\n",
        "# funçao y = ax^2+bx+c\n",
        "# utilizando a equação de bhaskara para encontrar as raizes:\n",
        "from math import *\n",
        "a = 3 \n",
        "b = -4\n",
        "c = -10\n",
        "x_1 = (-b+sqrt((b**2)-(4*a*c)))/(2*a) \n",
        "x_2 = (-b-sqrt((b**2)-(4*a*c)))/(2*a)\n",
        "print(\"as raizes da equação são:\")\n",
        "print(\"primeira raiz =\",x_1)\n",
        "print(\"segunda raiz =\",x_2) "
      ],
      "execution_count": 84,
      "outputs": [
        {
          "output_type": "stream",
          "text": [
            "as raizes da equação são:\n",
            "primeira raiz = 2.610317298281767\n",
            "segunda raiz = -1.2769839649484336\n"
          ],
          "name": "stdout"
        }
      ]
    },
    {
      "cell_type": "code",
      "metadata": {
        "colab": {
          "base_uri": "https://localhost:8080/"
        },
        "id": "gSYSYDejnsni",
        "outputId": "81080d10-3369-4a2f-f0db-9a4291806078"
      },
      "source": [
        "## exercicio 4\n",
        "P=500   # comprimento do poste em centimetros (cateto adjacente)\n",
        "S=50    # comprimento da sombra em centimetros (cateto oposto )\n",
        "from math import *\n",
        "x=atan((50)/(500))\n",
        "print(\" angulo zenital do sol =\",x,\"graus\")\n"
      ],
      "execution_count": 93,
      "outputs": [
        {
          "output_type": "stream",
          "text": [
            " angulo zenital do sol = 0.09966865249116204 graus\n"
          ],
          "name": "stdout"
        }
      ]
    },
    {
      "cell_type": "code",
      "metadata": {
        "colab": {
          "base_uri": "https://localhost:8080/"
        },
        "id": "QtgncfZC3u1q",
        "outputId": "1272e1c6-4d40-48ba-aca3-c25f7ae41357"
      },
      "source": [
        "## exercicio 5\n",
        "# calculo do meu IMC\n",
        "M = 76   #Massa em Kg\n",
        "A = 1.77 #altura em metros\n",
        "IMC=M/(A**2)\n",
        "print(\"%3.3f\"%(IMC),\"Meu IMC\")\n",
        "# calculo do IMC do bebe\n",
        "m = 11   #Massa em kg\n",
        "a = 0.70 #altura em metros\n",
        "IMC_2=m/(a**2)\n",
        "print(\"%3.3f\"%(IMC_2),\"IMC do bebe\")"
      ],
      "execution_count": 106,
      "outputs": [
        {
          "output_type": "stream",
          "text": [
            "24.259 Meu IMC\n",
            "22.449 IMC do bebe\n"
          ],
          "name": "stdout"
        }
      ]
    },
    {
      "cell_type": "code",
      "metadata": {
        "colab": {
          "base_uri": "https://localhost:8080/"
        },
        "id": "AYuDhOrF5vFG",
        "outputId": "cb0194a6-fa84-49bc-cd35-26c7e6584643"
      },
      "source": [
        "## exercicio 6 \n",
        "#calculo de um objeto em queda livre\n",
        "from math import *\n",
        "S = 3               #altura em metros\n",
        "a_g = 9.80665       # aceleração da gravidade \n",
        "V = sqrt(2*a_g*S)   # velocidade final do objeto\n",
        "print(\"velocidade final do objeto =\",\"%3.3f\"%(V),\"em metros por segundo\")\n",
        "t = V/a_g           # tempo que objeto demora para cair\n",
        "print(\"tempo final do objeto =\",\"%3.3f\"%(t),\"em segundos\")\n",
        "\n"
      ],
      "execution_count": 109,
      "outputs": [
        {
          "output_type": "stream",
          "text": [
            "velocidade final do objeto = 7.671 em metros por segundo\n",
            "tempo final do objeto = 0.782 em segundos\n"
          ],
          "name": "stdout"
        }
      ]
    }
  ]
}