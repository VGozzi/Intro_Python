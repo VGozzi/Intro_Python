{
  "nbformat": 4,
  "nbformat_minor": 0,
  "metadata": {
    "colab": {
      "name": "exercicios_da_aula_10.ipynb",
      "provenance": [],
      "authorship_tag": "ABX9TyMEEt+wXZCYRmPN1m5RQvV5",
      "include_colab_link": true
    },
    "kernelspec": {
      "name": "python3",
      "display_name": "Python 3"
    },
    "language_info": {
      "name": "python"
    }
  },
  "cells": [
    {
      "cell_type": "markdown",
      "metadata": {
        "id": "view-in-github",
        "colab_type": "text"
      },
      "source": [
        "<a href=\"https://colab.research.google.com/github/VGozzi/Intro_Python/blob/main/exercicios_da_aula_10.ipynb\" target=\"_parent\"><img src=\"https://colab.research.google.com/assets/colab-badge.svg\" alt=\"Open In Colab\"/></a>"
      ]
    },
    {
      "cell_type": "markdown",
      "metadata": {
        "id": "9CWIP_9R2Ix-"
      },
      "source": [
        "### Exercicio parte 1"
      ]
    },
    {
      "cell_type": "code",
      "metadata": {
        "colab": {
          "base_uri": "https://localhost:8080/"
        },
        "id": "_NWsSXY4VrDB",
        "outputId": "41816cdb-8d8c-4f55-975f-8e0dc8cb6a80"
      },
      "source": [
        "## exercicio 1\n",
        "\n",
        "import matplotlib.pyplot as plt\n",
        "import numpy as np\n",
        "\n",
        "def exer1 (x_i,x_f,dx) :\n",
        "  x = np.arange(x_i,x_f,dx)\n",
        "  S = 0\n",
        "  for xi in x: \n",
        "    S = S + math.exp(-xi)*dx\n",
        "    if (math.exp(0)-math.exp(-10) - S)/S <= 0.1 :\n",
        "      return S\n",
        "    else :\n",
        "      continue\n",
        "\n",
        "exer1 (x_i,x_f,dx)"
      ],
      "execution_count": 30,
      "outputs": [
        {
          "output_type": "execute_result",
          "data": {
            "text/plain": [
              "0.9091615305511226"
            ]
          },
          "metadata": {},
          "execution_count": 30
        }
      ]
    },
    {
      "cell_type": "code",
      "metadata": {
        "id": "QEJN6-UgwL4O"
      },
      "source": [
        "## exercicio 2\n",
        "\n",
        "import math\n",
        "import matplotlib.pyplot as plt\n",
        "import numpy as np\n",
        "\n",
        "x = range(0,10) \n",
        "y=[math.exp(-xi-1) for xi in x]\n",
        "plt.bar(x,y,color=\"red\",align=\"edge\",width=1)\n",
        "\n",
        "x1 = np.linspace(0,10, 1000) \n",
        "y1=[math.exp(-xi) for xi in x1]\n",
        "plt.plot(x1,y1)\n",
        "plt.show()"
      ],
      "execution_count": null,
      "outputs": []
    },
    {
      "cell_type": "code",
      "metadata": {
        "id": "HSupdprqy1-K"
      },
      "source": [
        "## exercicio 2\n",
        "\n",
        "import math\n",
        "import matplotlib.pyplot as plt\n",
        "import numpy as np\n",
        "\n",
        "x_i = 0\n",
        "x_f = 10\n",
        "dx = 0.01\n",
        "x = np.arange(x_i,x_f,dx)\n",
        "S = 0\n",
        "for xi in x:\n",
        "    S = S+ math.exp(-xi-dx)*dx\n",
        "    print(S)"
      ],
      "execution_count": null,
      "outputs": []
    },
    {
      "cell_type": "code",
      "metadata": {
        "id": "0Vh51WEHzkD9"
      },
      "source": [
        "## exercicio 3\n",
        "\n",
        "import math\n",
        "import matplotlib.pyplot as plt\n",
        "import numpy as np\n",
        "\n",
        "x_i = 0\n",
        "x_f = 10\n",
        "dx = 0.01\n",
        "x = np.arange(x_i,x_f,dx)\n",
        "S = 0\n",
        "for xi in x:\n",
        "    S = S+ ((math.exp(-xi)-math.exp(-xi-dx))/2)*dx\n",
        "    print(S)"
      ],
      "execution_count": null,
      "outputs": []
    },
    {
      "cell_type": "code",
      "metadata": {
        "id": "wCQSBIW60d-r"
      },
      "source": [
        "## exercicio 4\n",
        "\n",
        "import math\n",
        "import matplotlib.pyplot as plt\n",
        "import numpy as np\n",
        "\n",
        "x_i = 0\n",
        "x_f = 2*math.pi\n",
        "dx = 2*math.pi/1000\n",
        "x = np.arange(x_i,x_f,dx)\n",
        "S = 0\n",
        "for xi in x:\n",
        "    S = S+ math.cos(xi)*dx\n",
        "    print(S)"
      ],
      "execution_count": null,
      "outputs": []
    },
    {
      "cell_type": "code",
      "metadata": {
        "id": "8BVnVZct1Q5C"
      },
      "source": [
        "## exercicio 4\n",
        "\n",
        "import math\n",
        "import matplotlib.pyplot as plt\n",
        "import numpy as np\n",
        "\n",
        "x_i = 0\n",
        "x_f = 2*math.pi\n",
        "dx = 2*math.pi/1000\n",
        "x = np.arange(x_i,x_f,dx)\n",
        "S = 0\n",
        "for xi in x:\n",
        "    S = S+ math.sin(xi)*dx\n",
        "    print(S)"
      ],
      "execution_count": null,
      "outputs": []
    },
    {
      "cell_type": "code",
      "metadata": {
        "id": "Niaqi9p91dFy"
      },
      "source": [
        "## exercicio 5\n",
        "\n",
        "import math\n",
        "import matplotlib.pyplot as plt\n",
        "import numpy as np\n",
        "\n",
        "x_i = 0\n",
        "x_f = 10\n",
        "dx = 0.01\n",
        "x = np.arange(x_i,x_f,dx)\n",
        "S = 0\n",
        "for xi in x:\n",
        "    S = S+ math.cosh(xi)*dx\n",
        "    print(S)"
      ],
      "execution_count": null,
      "outputs": []
    },
    {
      "cell_type": "code",
      "metadata": {
        "id": "s46qBtl51k3W"
      },
      "source": [
        "## exercicio 5\n",
        "\n",
        "import math\n",
        "import matplotlib.pyplot as plt\n",
        "import numpy as np\n",
        "\n",
        "x_i = 0\n",
        "x_f = 10\n",
        "dx = 0.01\n",
        "x = np.arange(x_i,x_f,dx)\n",
        "S = 0\n",
        "for xi in x:\n",
        "    S = S+ math.sinh(xi)*dx\n",
        "    print(S)"
      ],
      "execution_count": null,
      "outputs": []
    },
    {
      "cell_type": "markdown",
      "metadata": {
        "id": "TEBmbCLD2FgJ"
      },
      "source": [
        "### Exercicios Parte 2"
      ]
    },
    {
      "cell_type": "code",
      "metadata": {
        "colab": {
          "base_uri": "https://localhost:8080/",
          "height": 279
        },
        "id": "DYa8n0qE2Mg1",
        "outputId": "8ae4277e-33f8-4cbf-83c8-4af070fe0dfe"
      },
      "source": [
        "##exercicio parte 2\n",
        "\n",
        "import math\n",
        "def f(t,y): \n",
        "  return 12\n",
        "\n",
        "\n",
        "t = range(0,26) \n",
        "y=[0]\n",
        "dt = t[1]-t[0] \n",
        "for i in range(1,len(t)) :\n",
        "  yi = y[i-1]  + f(t[i-1],y[i-1])* (dt/60) \n",
        "  y.append(yi)\n",
        "\n",
        "\n",
        "plt.plot(t,y)\n",
        "plt.xlabel(\"tempo (minutos)\")\n",
        "plt.ylabel(\"distância (km)\")\n",
        "plt.show()\n"
      ],
      "execution_count": 105,
      "outputs": [
        {
          "output_type": "display_data",
          "data": {
            "image/png": "[encoded data removed]",
            "text/plain": [
              "<Figure size 432x288 with 1 Axes>"
            ]
          },
          "metadata": {
            "needs_background": "light"
          }
        }
      ]
    },
    {
      "cell_type": "code",
      "metadata": {
        "colab": {
          "base_uri": "https://localhost:8080/",
          "height": 284
        },
        "id": "ji1IAwhDLOFd",
        "outputId": "4afef17e-afd2-429d-90b8-be40bb158137"
      },
      "source": [
        "\n",
        "g=9.8\n",
        "l=1\n",
        "def y2_prime(y1):\n",
        "  return (g/l)*y1\n",
        "\n",
        "def y1_prime(y2):\n",
        "  return y2\n",
        "\n",
        "dt = 0.01\n",
        "t = np.arange(0,2*math.pi*math.sqrt(l/g), dt)\n",
        "\n",
        "y1_0 = math.pi/2           # condição de contorno\n",
        "y1=[]\n",
        "y1.append(y1_0)\n",
        "\n",
        "y2_0 = 0                   # condição de contorno\n",
        "y2=[]\n",
        "y2.append(y2_0)\n",
        "\n",
        "for i in range(len(t)-1):\n",
        "  y1i = y1[i] + y1_prime(y2[i])*dt\n",
        "  y2i = y2[i] + y2_prime(y1[i])*dt\n",
        "\n",
        "  y1.append(y1i)\n",
        "  y2.append(y2i)\n",
        "\n",
        "\n",
        "plt.plot(t, y1)"
      ],
      "execution_count": 144,
      "outputs": [
        {
          "output_type": "execute_result",
          "data": {
            "text/plain": [
              "[<matplotlib.lines.Line2D at 0x7faf3bbed190>]"
            ]
          },
          "metadata": {},
          "execution_count": 144
        },
        {
          "output_type": "display_data",
          "data": {
            "image/png": "[encoded data removed]",
            "text/plain": [
              "<Figure size 432x288 with 1 Axes>"
            ]
          },
          "metadata": {
            "needs_background": "light"
          }
        }
      ]
    }
  ]
}