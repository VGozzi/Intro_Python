{
  "nbformat": 4,
  "nbformat_minor": 0,
  "metadata": {
    "colab": {
      "name": "exercicios_da_aula_9.ipynb",
      "provenance": [],
      "authorship_tag": "ABX9TyNP3hdZh2IlnWssyOwgiY6X",
      "include_colab_link": true
    },
    "kernelspec": {
      "name": "python3",
      "display_name": "Python 3"
    },
    "language_info": {
      "name": "python"
    }
  },
  "cells": [
    {
      "cell_type": "markdown",
      "metadata": {
        "id": "view-in-github",
        "colab_type": "text"
      },
      "source": [
        "<a href=\"https://colab.research.google.com/github/VGozzi/Intro_Python/blob/main/exercicios_da_aula_9.ipynb\" target=\"_parent\"><img src=\"https://colab.research.google.com/assets/colab-badge.svg\" alt=\"Open In Colab\"/></a>"
      ]
    },
    {
      "cell_type": "code",
      "metadata": {
        "id": "b3FK4Ypj8bZH"
      },
      "source": [
        ""
      ],
      "execution_count": null,
      "outputs": []
    },
    {
      "cell_type": "code",
      "metadata": {
        "id": "d1DZbVuKPKdO"
      },
      "source": [
        "##exercicio parte 1\n",
        "\n",
        "def dobrar_elementos(uma_lista):\n",
        "    \"\"\" tem como argumento uma lista e retorna uma nova lista com o dobro de cada elemento original\n",
        "    \"\"\"\n",
        "    nova_lista = [elemento*2 for elemento in uma_lista]\n",
        "    return nova_lista\n",
        "\n",
        "minha_lista = [2, 4, 6]\n",
        "print(minha_lista)\n",
        "nova_lista = dobrar_elementos(minha_lista)\n",
        "print(nova_lista)\n",
        "print(minha_lista)\n",
        "\n",
        "help(dobrar_elementos)"
      ],
      "execution_count": null,
      "outputs": []
    },
    {
      "cell_type": "markdown",
      "metadata": {
        "id": "rnw4tCZfe9gJ"
      },
      "source": [
        "### Exercicio parte 2"
      ]
    },
    {
      "cell_type": "code",
      "metadata": {
        "colab": {
          "base_uri": "https://localhost:8080/"
        },
        "id": "C1izTqSb8fYp",
        "outputId": "4ac4332b-acc9-47df-8491-b9bb9f1acb99"
      },
      "source": [
        "\n",
        "%%writefile dados_alunos.csv\n",
        "Idade,Altura,Peso\n",
        "18,1.68,80\n",
        "18,1.94,60\n",
        "18,1.7,80\n",
        "18,1.76,66\n",
        "19,1.73,87.5\n",
        "18,1.66,58\n",
        "21,1.8,92\n",
        "18,1.6,57\n",
        "18,1.67,64\n",
        "18,1.73,57\n",
        "17,1.73,75\n",
        "18,1.61,59\n",
        "18,1.69,90\n",
        "17,1.71,67\n",
        "19,1.78,60\n",
        "22,1.68,72\n",
        "18,1.7,73\n",
        "19,1.64,86\n",
        "18,1.64,75\n",
        "20,1.8,95\n",
        "17,1.75,60\n",
        "18,1.78,75\n",
        "18,1.75,65\n",
        "17,1.69,60\n",
        "19,1.78,73\n",
        "18,1.7,63\n",
        "34,1.75,78\n",
        "18,1.64,64\n",
        "19,1.75,50\n",
        "18,1.67,61\n",
        "18,1.7,70\n",
        "20,1.8,60\n",
        "18,1.63,57\n",
        "23,1.89,110\n",
        "18,1.71,71\n",
        "18,1.65,65\n",
        "17,1.72,67\n",
        "19,1.65,58\n",
        "18,1.75,90\n",
        "18,1.7,64\n",
        "19,1.81,70\n",
        "19,1.65,43\n",
        "28,1.52,50\n",
        "19,\t1.79,78\n",
        "26,1.79,82\n",
        "19,1.75,61\n",
        "19,1.8,70\n",
        "20,1.75,70\n",
        "20,1.73,70\n",
        "19,1.7,50\n",
        "22,1.78,72\n",
        "19,1.77,55\n",
        "18,1.53,58\n",
        "28,1.54,50\n",
        "20,1.83,70\n",
        "44,1.85,90\n",
        "18,1.6,51"
      ],
      "execution_count": 14,
      "outputs": [
        {
          "output_type": "stream",
          "name": "stdout",
          "text": [
            "Overwriting dados_alunos.csv\n"
          ]
        }
      ]
    },
    {
      "cell_type": "code",
      "metadata": {
        "id": "6NJM7wthitkz",
        "colab": {
          "base_uri": "https://localhost:8080/",
          "height": 1000
        },
        "outputId": "2fb8e5bb-a88a-400e-e77c-455c5981c85f"
      },
      "source": [
        "## exercicio 1\n",
        "\n",
        "import matplotlib.pyplot as plt\n",
        "import pandas as pd\n",
        "\n",
        "dados = pd.read_csv('dados_alunos.csv') \n",
        "print(dados)\n",
        "\n",
        "dados.hist(column='Idade', bins = 20)\n",
        "plt.show()\n",
        "\n",
        "dados.hist(column='Altura', bins = 20)\n",
        "plt.show()\n",
        "\n",
        "dados.hist(column='Peso', bins = 20)\n",
        "plt.show()"
      ],
      "execution_count": 102,
      "outputs": [
        {
          "output_type": "stream",
          "name": "stdout",
          "text": [
            "    Idade  Altura   Peso\n",
            "0      18    1.68   80.0\n",
            "1      18    1.94   60.0\n",
            "2      18    1.70   80.0\n",
            "3      18    1.76   66.0\n",
            "4      19    1.73   87.5\n",
            "5      18    1.66   58.0\n",
            "6      21    1.80   92.0\n",
            "7      18    1.60   57.0\n",
            "8      18    1.67   64.0\n",
            "9      18    1.73   57.0\n",
            "10     17    1.73   75.0\n",
            "11     18    1.61   59.0\n",
            "12     18    1.69   90.0\n",
            "13     17    1.71   67.0\n",
            "14     19    1.78   60.0\n",
            "15     22    1.68   72.0\n",
            "16     18    1.70   73.0\n",
            "17     19    1.64   86.0\n",
            "18     18    1.64   75.0\n",
            "19     20    1.80   95.0\n",
            "20     17    1.75   60.0\n",
            "21     18    1.78   75.0\n",
            "22     18    1.75   65.0\n",
            "23     17    1.69   60.0\n",
            "24     19    1.78   73.0\n",
            "25     18    1.70   63.0\n",
            "26     34    1.75   78.0\n",
            "27     18    1.64   64.0\n",
            "28     19    1.75   50.0\n",
            "29     18    1.67   61.0\n",
            "30     18    1.70   70.0\n",
            "31     20    1.80   60.0\n",
            "32     18    1.63   57.0\n",
            "33     23    1.89  110.0\n",
            "34     18    1.71   71.0\n",
            "35     18    1.65   65.0\n",
            "36     17    1.72   67.0\n",
            "37     19    1.65   58.0\n",
            "38     18    1.75   90.0\n",
            "39     18    1.70   64.0\n",
            "40     19    1.81   70.0\n",
            "41     19    1.65   43.0\n",
            "42     28    1.52   50.0\n",
            "43     19    1.79   78.0\n",
            "44     26    1.79   82.0\n",
            "45     19    1.75   61.0\n",
            "46     19    1.80   70.0\n",
            "47     20    1.75   70.0\n",
            "48     20    1.73   70.0\n",
            "49     19    1.70   50.0\n",
            "50     22    1.78   72.0\n",
            "51     19    1.77   55.0\n",
            "52     18    1.53   58.0\n",
            "53     28    1.54   50.0\n",
            "54     20    1.83   70.0\n",
            "55     44    1.85   90.0\n",
            "56     18    1.60   51.0\n"
          ]
        },
        {
          "output_type": "display_data",
          "data": {
            "image/png": "[encoded data removed]",
            "text/plain": [
              "<Figure size 432x288 with 1 Axes>"
            ]
          },
          "metadata": {
            "needs_background": "light"
          }
        },
        {
          "output_type": "display_data",
          "data": {
            "image/png": "[encoded data removed]",
            "text/plain": [
              "<Figure size 432x288 with 1 Axes>"
            ]
          },
          "metadata": {
            "needs_background": "light"
          }
        },
        {
          "output_type": "display_data",
          "data": {
            "image/png": "[encoded data removed]",
            "text/plain": [
              "<Figure size 432x288 with 1 Axes>"
            ]
          },
          "metadata": {
            "needs_background": "light"
          }
        }
      ]
    },
    {
      "cell_type": "code",
      "metadata": {
        "id": "tnmVcCV28YWC"
      },
      "source": [
        "%%writefile dados_alunos.txt\n",
        "18\t1.68\t80\n",
        "18\t1.94\t60\n",
        "18\t1.7\t80\n",
        "18\t1.76\t66\n",
        "19\t1.73\t87.5\n",
        "18\t1.66\t58\n",
        "21\t1.8\t92\n",
        "18\t1.6\t57\n",
        "18\t1.67\t64\n",
        "18\t1.73\t57\n",
        "17\t1.73\t75\n",
        "18\t1.61\t59\n",
        "18\t1.69\t90\n",
        "17\t1.71\t67\n",
        "19\t1.78\t60\n",
        "22\t1.68\t72\n",
        "18\t1.7\t73\n",
        "19\t1.64\t86\n",
        "18\t1.64\t75\n",
        "20\t1.8\t95\n",
        "17\t1.75\t60\n",
        "18\t1.78\t75\n",
        "18\t1.75\t65\n",
        "17\t1.69\t60\n",
        "19\t1.78\t73\n",
        "18\t1.7\t63\n",
        "34\t1.75\t78\n",
        "18\t1.64\t64\n",
        "19\t1.75\t50\n",
        "18\t1.67\t61\n",
        "18\t1.7\t70\n",
        "20\t1.8\t60\n",
        "18\t1.63\t57\n",
        "23\t1.89\t110\n",
        "18\t1.71\t71\n",
        "18\t1.65\t65\n",
        "17\t1.72\t67\n",
        "19\t1.65\t58\n",
        "18\t1.75\t90\n",
        "18\t1.7\t64\n",
        "19\t1.81\t70\n",
        "19\t1.65\t43\n",
        "28\t1.52\t50\n",
        "19\t1.79\t78\n",
        "26\t1.79\t82\n",
        "19\t1.75\t61\n",
        "19\t1.8\t70\n",
        "20\t1.75\t70\n",
        "20\t1.73\t70\n",
        "19\t1.7\t50\n",
        "22\t1.78\t72\n",
        "19\t1.77\t55\n",
        "18\t1.53\t58\n",
        "28\t1.54\t50\n",
        "20\t1.83\t70\n",
        "44\t1.85\t90\n",
        "18\t1.6\t51"
      ],
      "execution_count": null,
      "outputs": []
    },
    {
      "cell_type": "code",
      "metadata": {
        "id": "NbOg_AOgoqjJ"
      },
      "source": [
        "## exercicio 4\n",
        "\n",
        "def ler_arquivo(arquivo) :\n",
        "    ''' recebe como argumento um arquivo.txt e retorna um dicionario cujas chaves são os numeros das colunas presentes no arquivo e\n",
        "    o valor associado a cada chave é a lista de elementos de cada coluna.\n",
        "    '''\n",
        "    dados = open(arquivo,\"r\")                             #le o arquivo\n",
        "    linha = dados.readline()                              #le a primeira linha do arquivo\n",
        "    dicionario = {}                           \n",
        "    while linha != '' :                                   # condição para o final do arquivo  \n",
        "        linhas_separadas = linha.strip().split('\\t')      #trasforma a linha em lista\n",
        "        for n in range(len(linhas_separadas)):\n",
        "            if n in dicionario.keys() :                         \n",
        "                dicionario[n].append(linhas_separadas[n]) # adiciona valores as listas ja existentes\n",
        "            else :\n",
        "                dicionario[n] = [linhas_separadas[n]]     #cria as listas associadas as chaves\n",
        "        linha = dados.readline()\n",
        "        \n",
        "            \n",
        "    return dicionario\n",
        "\n",
        "ler_arquivo('dados_alunos.txt')\n",
        "\n"
      ],
      "execution_count": null,
      "outputs": []
    },
    {
      "cell_type": "code",
      "metadata": {
        "id": "N3bz5jZj7PJJ"
      },
      "source": [
        "## exercicio 5\n",
        "%%writefile arquivo.py \n",
        "\n",
        "def ler_arquivo(arquivo) :\n",
        "    ''' recebe como argumento um arquivo.txt e retorna um dicionario cujas chaves são os numeros das colunas presentes no arquivo e\n",
        "    o valor associado a cada chave é a lista de elementos de cada coluna.\n",
        "    '''\n",
        "    dados = open(arquivo,\"r\")                             #le o arquivo\n",
        "    linha = dados.readline()                              #le a primeira linha do arquivo\n",
        "    dicionario = {}                           \n",
        "    while linha != '' :                                   # condição para o final do arquivo  \n",
        "        linhas_separadas = linha.strip().split('\\t')      #trasforma a linha em lista\n",
        "        for n in range(len(linhas_separadas)):\n",
        "            if n in dicionario.keys() :                         \n",
        "                dicionario[n].append(linhas_separadas[n]) # adiciona valores as listas ja existentes\n",
        "            else :\n",
        "                dicionario[n] = [linhas_separadas[n]]     #cria as listas associadas as chaves\n",
        "        linha = dados.readline()\n",
        "        \n",
        "            \n",
        "    return dicionario\n",
        "\n",
        "\n"
      ],
      "execution_count": null,
      "outputs": []
    },
    {
      "cell_type": "code",
      "metadata": {
        "id": "egx-3SvR9u1D"
      },
      "source": [
        "import arquivo\n",
        "\n",
        "arquivo.ler_arquivo('dados_alunos.txt')"
      ],
      "execution_count": null,
      "outputs": []
    },
    {
      "cell_type": "code",
      "metadata": {
        "id": "Bz650L0b-fFE"
      },
      "source": [
        "## exercicio 6\n",
        "import arquivo\n",
        "import matplotlib.pyplot as plt\n",
        "from collections import Counter \n",
        "\n",
        "dados = arquivo.ler_arquivo('dados_alunos.txt')\n",
        "\n",
        "lista_coluna0 = list(map(float,dados[0]))\n",
        "lista_coluna1 = list(map(float,dados[1]))\n",
        "lista_coluna2 = list(map(float,dados[2]))\n",
        "\n",
        "freq_coluna0 = Counter(dados_coluna0)\n",
        "freq_coluna1 = Counter(dados_coluna1)\n",
        "freq_coluna2 = Counter(dados_coluna2)\n",
        "\n",
        "plt.bar(list(freq_coluna0), freq_coluna0.values())\n",
        "plt.show()\n",
        "\n",
        "plt.bar(list(freq_coluna1), freq_coluna1.values())\n",
        "plt.show()\n",
        "\n",
        "plt.bar(list(freq_coluna2), freq_coluna2.values())\n",
        "plt.show()"
      ],
      "execution_count": null,
      "outputs": []
    },
    {
      "cell_type": "code",
      "metadata": {
        "colab": {
          "base_uri": "https://localhost:8080/"
        },
        "id": "ufhbfYA3SAH4",
        "outputId": "74dc1edc-7a76-4bde-aa5c-ed1a6aeb6a07"
      },
      "source": [
        "## exercicio 7\n",
        "\n",
        "import statistics\n",
        "\n",
        "def estatistica(lista) :\n",
        "    media = statistics.mean(lista)\n",
        "    desvp_amostral = statistics.stdev(lista)\n",
        "    desvp_populacional = statistics.pstdev(lista)\n",
        "    return 'media =',media,'desvio padrão populacional',desvp_amostral,'desvio padrão amostral',desvp_populacional\n",
        "\n",
        "estatistica(lista_coluna0)\n",
        "\n"
      ],
      "execution_count": 123,
      "outputs": [
        {
          "output_type": "execute_result",
          "data": {
            "text/plain": [
              "('media =',\n",
              " 19.82456140350877,\n",
              " 'desvio padrão populacional',\n",
              " 4.452618840226598,\n",
              " 'desvio padrão amostral',\n",
              " 4.413387953566483)"
            ]
          },
          "metadata": {},
          "execution_count": 123
        }
      ]
    }
  ]
}