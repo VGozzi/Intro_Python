{
  "nbformat": 4,
  "nbformat_minor": 0,
  "metadata": {
    "colab": {
      "name": "exercicios_da_aula_2.ipynb",
      "provenance": [],
      "authorship_tag": "ABX9TyNYoNjlqBOf78D3CdxcKQ3L",
      "include_colab_link": true
    },
    "kernelspec": {
      "name": "python3",
      "display_name": "Python 3"
    },
    "language_info": {
      "name": "python"
    }
  },
  "cells": [
    {
      "cell_type": "markdown",
      "metadata": {
        "id": "view-in-github",
        "colab_type": "text"
      },
      "source": [
        "<a href=\"https://colab.research.google.com/github/VGozzi/Intro_Python/blob/main/exercicios_da_aula_2.ipynb\" target=\"_parent\"><img src=\"https://colab.research.google.com/assets/colab-badge.svg\" alt=\"Open In Colab\"/></a>"
      ]
    },
    {
      "cell_type": "markdown",
      "metadata": {
        "id": "LGaBHcVJVQiV"
      },
      "source": [
        "Exercicios da aula 2\n"
      ]
    },
    {
      "cell_type": "code",
      "metadata": {
        "id": "7BLarYd7VTzY"
      },
      "source": [
        "## exercicio 1\n",
        "largura=17\n",
        "altura=12\n",
        "delimitador=\".\"\n"
      ],
      "execution_count": null,
      "outputs": []
    },
    {
      "cell_type": "code",
      "metadata": {
        "id": "ZDNMEgOK8Dnp"
      },
      "source": [
        "#1.1\n",
        "print(largura/2)\n",
        "type(largura/2)"
      ],
      "execution_count": null,
      "outputs": []
    },
    {
      "cell_type": "code",
      "metadata": {
        "id": "eMD1f6tu9Mxb"
      },
      "source": [
        "#1.2\n",
        "print(largura/2.0)\n",
        "type(largura/2.0)"
      ],
      "execution_count": null,
      "outputs": []
    },
    {
      "cell_type": "code",
      "metadata": {
        "id": "Zs1gvOOP9jbB"
      },
      "source": [
        "#1.3\n",
        "print(altura/3)\n",
        "type(altura/3)"
      ],
      "execution_count": null,
      "outputs": []
    },
    {
      "cell_type": "code",
      "metadata": {
        "id": "Vuw45qj29x7I"
      },
      "source": [
        "#1.4\n",
        "print(1+2*5)\n",
        "type(1+2*5)"
      ],
      "execution_count": null,
      "outputs": []
    },
    {
      "cell_type": "code",
      "metadata": {
        "id": "gM7GO-up95xk"
      },
      "source": [
        "#1.5\n",
        "print(delimitador*5)\n",
        "type(delimitador*5)"
      ],
      "execution_count": null,
      "outputs": []
    },
    {
      "cell_type": "code",
      "metadata": {
        "id": "neBuabIl-OIK"
      },
      "source": [
        "## exercicio 2\n",
        "from math import *\n",
        "r = 5 # raio da esfera\n",
        "Volume_esfera = (4/3)*(pi*r**3) # equação do volume da esfera\n",
        "print(\"volume da esfera =\",Volume_esfera)"
      ],
      "execution_count": null,
      "outputs": []
    },
    {
      "cell_type": "code",
      "metadata": {
        "id": "zsjdvMPVAsXE"
      },
      "source": [
        "## exercicio 3\n",
        "preço_livro = 24.95 # em R$\n",
        "desconto = 40/100 # desconto dado pela livraria\n",
        "custo_primeiro_livro = 3 #custo de envio em R$\n",
        "custo_do_adicional_por_livro = 0.75 #custo adicional em R$\n",
        "# para a compra de 60 livros\n",
        "custo_total = (60*preço_livro*desconto)+(custo_primeiro_livro+(custo_do_adicional_por_livro*59))\n",
        "print(\"%6.2f\"%(custo_total),\"em R$\")"
      ],
      "execution_count": null,
      "outputs": []
    },
    {
      "cell_type": "code",
      "metadata": {
        "id": "gc0l82tDDMGB"
      },
      "source": [
        "## exercicio 4\n",
        "comprimento_de_onda = 632.8      # em nm\n",
        "L = comprimento_de_onda*(10**-9) # comprimento de onda em metros\n",
        "D = 1.98                         # distancia entre a fenda e um anteparo em m  \n",
        "d = 0.250                        # espaçamento entre as fendas em mm \n",
        "A = d*(10**-3)                   # d em metros\n",
        "delta_y=(L*A)/d                  # dinstancia entre dois maximos consecutivos de interferência em m\n",
        "\n",
        "print(delta_y*(10**9), \"em nm\")       "
      ],
      "execution_count": null,
      "outputs": []
    }
  ]
}