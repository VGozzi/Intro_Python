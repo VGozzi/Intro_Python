{
  "nbformat": 4,
  "nbformat_minor": 0,
  "metadata": {
    "colab": {
      "name": "exercicios_da_aula_5A.ipynb",
      "provenance": [],
      "authorship_tag": "ABX9TyMjBHNoO9zVozDkRG7kN+2L",
      "include_colab_link": true
    },
    "kernelspec": {
      "name": "python3",
      "display_name": "Python 3"
    },
    "language_info": {
      "name": "python"
    }
  },
  "cells": [
    {
      "cell_type": "markdown",
      "metadata": {
        "id": "view-in-github",
        "colab_type": "text"
      },
      "source": [
        "<a href=\"https://colab.research.google.com/github/VGozzi/Intro_Python/blob/main/exercicios_da_aula_5A.ipynb\" target=\"_parent\"><img src=\"https://colab.research.google.com/assets/colab-badge.svg\" alt=\"Open In Colab\"/></a>"
      ]
    },
    {
      "cell_type": "markdown",
      "metadata": {
        "id": "b25yP3QAs2kG"
      },
      "source": [
        "## exercicios parte 1:\n",
        "\n",
        "\n"
      ]
    },
    {
      "cell_type": "markdown",
      "metadata": {
        "id": "8V30akgNVvTI"
      },
      "source": [
        "exercicio 1: https://trinket.io/turtle/b04c0c3ca3"
      ]
    },
    {
      "cell_type": "markdown",
      "metadata": {
        "id": "ITdQxZMCWzPT"
      },
      "source": [
        "exercicio 2 : https://trinket.io/turtle/71bb6a5900"
      ]
    },
    {
      "cell_type": "markdown",
      "metadata": {
        "id": "Wo4Wo5yxZ9qc"
      },
      "source": [
        "exercicio 3 : https://trinket.io/turtle/64b3f195fb?runMode=console\n",
        "\n"
      ]
    },
    {
      "cell_type": "markdown",
      "metadata": {
        "id": "aAQBNprXmjjr"
      },
      "source": [
        "exericio 5 : https://trinket.io/turtle/ad52aa5a1b?runMode=console\n"
      ]
    },
    {
      "cell_type": "markdown",
      "metadata": {
        "id": "SZaYCJOoeC1r"
      },
      "source": [
        "exercicio 6 :\n",
        "https://trinket.io/turtle/7e04225bb0"
      ]
    },
    {
      "cell_type": "markdown",
      "metadata": {
        "id": "5uc6W8xbmbHO"
      },
      "source": [
        "exercicio 7 : https://trinket.io/turtle/962c8259f9?runMode=console"
      ]
    },
    {
      "cell_type": "markdown",
      "metadata": {
        "id": "HOiSdHrogOfC"
      },
      "source": [
        "## exercicios propostos :\n"
      ]
    },
    {
      "cell_type": "markdown",
      "metadata": {
        "id": "haErTmg1s0P0"
      },
      "source": [
        "exercicio 1: https://trinket.io/turtle/0805f2e436?runMode=console"
      ]
    },
    {
      "cell_type": "markdown",
      "metadata": {
        "id": "WNJG_rbAujVO"
      },
      "source": [
        "exercicio 2:https://trinket.io/turtle/083d5f6d33?runMode=console\n"
      ]
    },
    {
      "cell_type": "markdown",
      "metadata": {
        "id": "TGBz1lj599i2"
      },
      "source": [
        ""
      ]
    },
    {
      "cell_type": "markdown",
      "metadata": {
        "id": "bCyC4MzuvpgL"
      },
      "source": [
        "exercicio 3: https://trinket.io/turtle/2d4331ba14?runMode=console\n"
      ]
    },
    {
      "cell_type": "markdown",
      "metadata": {
        "id": "EppCoYeNwVIv"
      },
      "source": [
        "exercicio 4 : https://trinket.io/turtle/ab6328edb1?runMode=console\n"
      ]
    },
    {
      "cell_type": "markdown",
      "metadata": {
        "id": "ijJ4o3OE3r1I"
      },
      "source": [
        "exercicio 5: https://trinket.io/turtle/d9360b81c4\n"
      ]
    }
  ]
}