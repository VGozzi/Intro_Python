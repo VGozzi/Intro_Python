{
  "nbformat": 4,
  "nbformat_minor": 0,
  "metadata": {
    "colab": {
      "name": "exercicios_da_aula_3.ipynb",
      "provenance": [],
      "authorship_tag": "ABX9TyOddt50T6rV4UPJ5PNMjecG",
      "include_colab_link": true
    },
    "kernelspec": {
      "name": "python3",
      "display_name": "Python 3"
    },
    "language_info": {
      "name": "python"
    }
  },
  "cells": [
    {
      "cell_type": "markdown",
      "metadata": {
        "id": "view-in-github",
        "colab_type": "text"
      },
      "source": [
        "<a href=\"https://colab.research.google.com/github/VGozzi/Intro_Python/blob/main/exercicios_da_aula_3.ipynb\" target=\"_parent\"><img src=\"https://colab.research.google.com/assets/colab-badge.svg\" alt=\"Open In Colab\"/></a>"
      ]
    },
    {
      "cell_type": "markdown",
      "metadata": {
        "id": "vizjz7xfM8Y6"
      },
      "source": [
        "Exercicios da aula 3"
      ]
    },
    {
      "cell_type": "code",
      "metadata": {
        "id": "_hQWw31sM_mX"
      },
      "source": [
        "## exercicio 1 \n",
        "def f(x) :\n",
        "    print(x)\n",
        "    print(type (x))\n",
        "\n",
        "f(5)"
      ],
      "execution_count": null,
      "outputs": []
    },
    {
      "cell_type": "code",
      "metadata": {
        "id": "BmWXjCc5q6gY"
      },
      "source": [
        "## exercicio 2.1\n",
        "def V(x_f,x_i,t) :    \n",
        "    V=(x_f-x_i)/t # onde V é velocidade, X_f é a posiçao final, x_i é a posição inicial e t é o tempo percorrido\n",
        "    print(V,\"m/s\") \n",
        "\n",
        "V(3,1,2)"
      ],
      "execution_count": null,
      "outputs": []
    },
    {
      "cell_type": "code",
      "metadata": {
        "id": "C-VHJlJIsrSJ"
      },
      "source": [
        "## exercicio 2.2\n",
        "def V(t) : \n",
        "    a=10  # aceleração constante em m/s^2\n",
        "    V=a*t   # V é a velocidade em m/s e t é tempo em s\n",
        "    print(V,\"m/s\")\n",
        "\n",
        "V(3)"
      ],
      "execution_count": null,
      "outputs": []
    },
    {
      "cell_type": "code",
      "metadata": {
        "id": "7GSDyKPZzUYX"
      },
      "source": [
        "## exercicio 3\n",
        "from math import *\n",
        "def theta(cat_opst,cat_adjc) :      \n",
        "    teta = atan(cat_opst/cat_adjc)  # teta é angulo zenital do sol, cat_opst é a sombra e cat_adjc é a altura \n",
        "    print(degrees(teta),\"graus\")    \n",
        "\n",
        "theta(1,1)"
      ],
      "execution_count": null,
      "outputs": []
    },
    {
      "cell_type": "code",
      "metadata": {
        "id": "KA3fG6dd72I3"
      },
      "source": [
        "## exercicio 4.1 (conversão)\n",
        "# conversão de milhas para metros\n",
        "def conversão_milhasmetros(D_milhas) :\n",
        "    conversão_milhasmetros = D_milhas*1610  \n",
        "    print(conversão_milhasmetros)\n",
        "\n",
        "# conversão de metro para milhas\n",
        "def conversão_metrosmilhas(D_metros) :\n",
        "    conversão_metrosmilhas = D_metros/1610\n",
        "    print(conversão_metrosmilhas)\n",
        "\n",
        "# conversão de horas para segundos\n",
        "def conversão_tempo (horas) :\n",
        "    conversão_tempo = horas*3600 \n",
        "    print(conversão_tempo)\n",
        "\n",
        "# conversão de segundos para horas\n",
        "def conversão_tempo_inverso (segundos) :\n",
        "    conversão_tempo_inverso = segundos/3600 \n",
        "    print(conversão_tempo_inverso)\n"
      ],
      "execution_count": null,
      "outputs": []
    },
    {
      "cell_type": "code",
      "metadata": {
        "colab": {
          "base_uri": "https://localhost:8080/"
        },
        "id": "wMNBQQUHuigu",
        "outputId": "c0c2b9a6-72d4-4e64-d46b-6cc7aee6e4f8"
      },
      "source": [
        "#exercicio corrida\n",
        "conversão_metrosmilhas(10000)\n",
        "conversão_tempo_inverso(43.5*60)"
      ],
      "execution_count": null,
      "outputs": [
        {
          "output_type": "stream",
          "text": [
            "6.211180124223603\n",
            "0.725\n"
          ],
          "name": "stdout"
        }
      ]
    },
    {
      "cell_type": "code",
      "metadata": {
        "colab": {
          "base_uri": "https://localhost:8080/"
        },
        "id": "ld-4Auym06oQ",
        "outputId": "c8e86df8-1b7f-407d-8e65-134cc2dbc488"
      },
      "source": [
        "#exercicio corrida parte 2\n",
        "conversão_milhasmetros(4)\n",
        "conversão_tempo_inverso(30*60)"
      ],
      "execution_count": null,
      "outputs": [
        {
          "output_type": "stream",
          "text": [
            "6440\n",
            "0.5\n"
          ],
          "name": "stdout"
        }
      ]
    },
    {
      "cell_type": "code",
      "metadata": {
        "id": "PVv-nXakIL68"
      },
      "source": [
        "## exercicio 4.2\n",
        "#  exercicio da aula 1\n",
        "def V(d,t) :\n",
        "    V = d/t\n",
        "    print(V)\n",
        "\n",
        "def t_med(t,d) :\n",
        "    t_med = t/d\n",
        "    print(t_med)"
      ],
      "execution_count": null,
      "outputs": []
    },
    {
      "cell_type": "code",
      "metadata": {
        "colab": {
          "base_uri": "https://localhost:8080/"
        },
        "id": "kUAncPnXwNMW",
        "outputId": "9314b185-659f-49ae-e96d-a9ff7d5a97ce"
      },
      "source": [
        "# exercicio corrida\n",
        "V(6.211180124223603,0.725)\n",
        "t_med(2610.0,6.211180124223603)"
      ],
      "execution_count": null,
      "outputs": [
        {
          "output_type": "stream",
          "text": [
            "8.567144998929107\n",
            "420.21\n"
          ],
          "name": "stdout"
        }
      ]
    },
    {
      "cell_type": "code",
      "metadata": {
        "colab": {
          "base_uri": "https://localhost:8080/"
        },
        "id": "KAS4QWXlzfF6",
        "outputId": "c59356ee-f40c-43d3-cb4a-df49211358fc"
      },
      "source": [
        "#exercicio corrida parte 2\n",
        "V(6440*(10**-3),0.5)\n",
        "t_med(30*60,6440*(10**-3))\n"
      ],
      "execution_count": null,
      "outputs": [
        {
          "output_type": "stream",
          "text": [
            "12.88\n",
            "279.5031055900621\n"
          ],
          "name": "stdout"
        }
      ]
    },
    {
      "cell_type": "code",
      "metadata": {
        "id": "9cOMwABRjvHu"
      },
      "source": [
        "## exercicio 5\n",
        "# exercicio IMC\n",
        "def IMC(M,A) :\n",
        "    IMC = M/(A**2) # massa em kg e altura em metros\n",
        "    print(\"IMC =\",IMC)\n",
        "\n",
        "# exercicio Volume\n",
        "from math import *\n",
        "def Volume(r) :\n",
        "    Volume = (4/3)*pi*(r**3) # V é volume da esfera e r é o raio da esfera\n",
        "    print(\"volume da esfera =\",Volume)\n",
        "\n",
        "# exercicio interferência\n",
        "def delta_y(l) :    \n",
        "    # delta_y = dinstancia entre dois maximos consecutivos de interferência em m\n",
        "    # l = comprimento da onda em nanometros\n",
        "    d = 2*(10**-4)      # espaçamento entre as fendas em metros\n",
        "    D = 2               # distancia entre a fenda e o anteparo em metros\n",
        "    L = l*(10**-9)      # comprimento de onda em metros\n",
        "    delta_y = (L*D)/d\n",
        "    print(delta_y,\"em m\")"
      ],
      "execution_count": 2,
      "outputs": []
    },
    {
      "cell_type": "code",
      "metadata": {
        "colab": {
          "base_uri": "https://localhost:8080/"
        },
        "id": "jbi-i35EkNM-",
        "outputId": "c49387ef-11f1-4edb-d775-04cc99e3755d"
      },
      "source": [
        "IMC(76,1.77)"
      ],
      "execution_count": null,
      "outputs": [
        {
          "output_type": "stream",
          "text": [
            "IMC = 24.258674071946118\n"
          ],
          "name": "stdout"
        }
      ]
    },
    {
      "cell_type": "code",
      "metadata": {
        "colab": {
          "base_uri": "https://localhost:8080/"
        },
        "id": "vKFe8HeUmLtQ",
        "outputId": "9d7533cc-b16f-4417-f57e-788eb24b79df"
      },
      "source": [
        "Volume(5)"
      ],
      "execution_count": null,
      "outputs": [
        {
          "output_type": "stream",
          "text": [
            "volume da esfera = 523.5987755982989\n"
          ],
          "name": "stdout"
        }
      ]
    },
    {
      "cell_type": "code",
      "metadata": {
        "id": "ea5YVkmHme0J"
      },
      "source": [
        "delta_y(632.8)"
      ],
      "execution_count": null,
      "outputs": []
    }
  ]
}