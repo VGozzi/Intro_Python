{
  "nbformat": 4,
  "nbformat_minor": 0,
  "metadata": {
    "colab": {
      "name": "exercicios_da_aula_4.ipynb",
      "provenance": [],
      "authorship_tag": "ABX9TyNa/UnBW5RA+sZ2ELfZmc9F",
      "include_colab_link": true
    },
    "kernelspec": {
      "name": "python3",
      "display_name": "Python 3"
    },
    "language_info": {
      "name": "python"
    }
  },
  "cells": [
    {
      "cell_type": "markdown",
      "metadata": {
        "id": "view-in-github",
        "colab_type": "text"
      },
      "source": [
        "<a href=\"https://colab.research.google.com/github/VGozzi/Intro_Python/blob/main/exercicios_da_aula_4.ipynb\" target=\"_parent\"><img src=\"https://colab.research.google.com/assets/colab-badge.svg\" alt=\"Open In Colab\"/></a>"
      ]
    },
    {
      "cell_type": "markdown",
      "metadata": {
        "id": "Cs9FVxs1h72n"
      },
      "source": [
        "exercicio da aula 4"
      ]
    },
    {
      "cell_type": "code",
      "metadata": {
        "id": "84Ci-ge8hdDn"
      },
      "source": [
        "## exercicio 1\n",
        "def f(x,y) :\n",
        "    z = x + y\n",
        "    return z*2"
      ],
      "execution_count": 27,
      "outputs": []
    },
    {
      "cell_type": "code",
      "metadata": {
        "id": "5x-nCOHlmwDh"
      },
      "source": [
        "## exercicio 2\n",
        "# letra a\n",
        "def do_twice (f):\n",
        "    f()\n",
        "    f()\n",
        "\n",
        "def print_spam() :\n",
        "    print('spam')\n",
        "\n",
        "do_twice(print_spam)"
      ],
      "execution_count": null,
      "outputs": []
    },
    {
      "cell_type": "code",
      "metadata": {
        "id": "iihR-x3ZivIA"
      },
      "source": [
        "# letra b\n",
        "g = \"ola\" \n",
        "\n",
        "def do_twice(f,g):\n",
        "   f(g)\n",
        "   f(g)\n",
        "\n",
        "def print_spam(g):\n",
        "   print(g)\n",
        "\n",
        "do_twice(print_spam, g)\n"
      ],
      "execution_count": null,
      "outputs": []
    },
    {
      "cell_type": "code",
      "metadata": {
        "id": "QRi7xYIgo4rN"
      },
      "source": [
        "# letra c\n",
        "string = \"aloha\"\n",
        "\n",
        "def print_twice(string):\n",
        "   print(string)\n",
        "   print(string)\n",
        "\n",
        "print_twice(string)\n",
        "\n"
      ],
      "execution_count": null,
      "outputs": []
    },
    {
      "cell_type": "code",
      "metadata": {
        "id": "mCNiVTA-pTED"
      },
      "source": [
        "# letra d\n",
        "\n",
        "g = \"spam\"\n",
        "\n",
        "def do_twice(f,g):\n",
        "    f(g)\n",
        "    f(g)\n",
        "\n",
        "def print_twice(g):\n",
        "    print(g)\n",
        "    print(g)\n",
        "\n",
        "do_twice(print_twice, g)"
      ],
      "execution_count": null,
      "outputs": []
    },
    {
      "cell_type": "code",
      "metadata": {
        "id": "_E1qJGfypuZO"
      },
      "source": [
        "# letra e\n",
        "def do_four(f,g) :\n",
        "    do_twice(f,g)\n",
        "    do_twice(f,g)\n",
        "\n",
        "do_four(print_twice,g)"
      ],
      "execution_count": null,
      "outputs": []
    }
  ]
}