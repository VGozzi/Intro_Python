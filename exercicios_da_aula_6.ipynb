{
  "nbformat": 4,
  "nbformat_minor": 0,
  "metadata": {
    "colab": {
      "name": "exercicios_da_aula_6.ipynb",
      "provenance": [],
      "authorship_tag": "ABX9TyM1N9xkGUo08xmRnlf1ztp1",
      "include_colab_link": true
    },
    "kernelspec": {
      "name": "python3",
      "display_name": "Python 3"
    },
    "language_info": {
      "name": "python"
    }
  },
  "cells": [
    {
      "cell_type": "markdown",
      "metadata": {
        "id": "view-in-github",
        "colab_type": "text"
      },
      "source": [
        "<a href=\"https://colab.research.google.com/github/VGozzi/Intro_Python/blob/main/exercicios_da_aula_6.ipynb\" target=\"_parent\"><img src=\"https://colab.research.google.com/assets/colab-badge.svg\" alt=\"Open In Colab\"/></a>"
      ]
    },
    {
      "cell_type": "markdown",
      "metadata": {
        "id": "xwpOJ50SEWkO"
      },
      "source": [
        "\n",
        "questão 1 : https://trinket.io/turtle/38106fe1bf"
      ]
    },
    {
      "cell_type": "code",
      "metadata": {
        "colab": {
          "base_uri": "https://localhost:8080/",
          "height": 533
        },
        "id": "O21wC8jUEXt9",
        "outputId": "7846559b-5b25-4266-b4a9-90647e437763"
      },
      "source": [
        "## questão 3 :\n",
        "import matplotlib.pyplot as plt\n",
        "\n",
        "n = int(input(\"numero total de dados: \"))\n",
        "print(\"coloque os dados em ordem crescente abaixo: \")\n",
        "dados = [input() for i in range(n)]\n",
        "\n",
        "cor = input(\"escolha a cor do histograma:\")\n",
        "classe_frequencia =int(input(\"escolha a classe de frequencia:\"))\n",
        "\n",
        "plt.hist(dados,color=cor,bins=classe_frequencia)\n",
        "\n",
        "plt.xlabel(\"Valores\")\n",
        "plt.ylabel(\"Frequência absoluta\")\n",
        "plt.title(\"Histograma\")\n",
        "plt.show()"
      ],
      "execution_count": 3,
      "outputs": [
        {
          "name": "stdout",
          "output_type": "stream",
          "text": [
            "numero total de dados: 10\n",
            "coloque os dados em ordem crescente abaixo: \n",
            "1\n",
            "1\n",
            "1\n",
            "1\n",
            "2\n",
            "2\n",
            "2\n",
            "3\n",
            "3\n",
            "4\n",
            "escolha a cor do histograma:red\n",
            "escolha a classe de frequencia:4\n"
          ]
        },
        {
          "output_type": "display_data",
          "data": {
            "image/png": "[encoded data removed]",
            "text/plain": [
              "<Figure size 432x288 with 1 Axes>"
            ]
          },
          "metadata": {
            "needs_background": "light"
          }
        }
      ]
    }
  ]
}