{
  "nbformat": 4,
  "nbformat_minor": 0,
  "metadata": {
    "colab": {
      "name": "exercicios_da_aula_12_e_13.ipynb",
      "provenance": [],
      "authorship_tag": "ABX9TyMXIoyI1ZxrPunbYxueKI4U",
      "include_colab_link": true
    },
    "kernelspec": {
      "name": "python3",
      "display_name": "Python 3"
    },
    "language_info": {
      "name": "python"
    }
  },
  "cells": [
    {
      "cell_type": "markdown",
      "metadata": {
        "id": "view-in-github",
        "colab_type": "text"
      },
      "source": [
        "<a href=\"https://colab.research.google.com/github/VGozzi/Intro_Python/blob/main/exercicios_da_aula_12_e_13.ipynb\" target=\"_parent\"><img src=\"https://colab.research.google.com/assets/colab-badge.svg\" alt=\"Open In Colab\"/></a>"
      ]
    },
    {
      "cell_type": "code",
      "metadata": {
        "id": "cmEDRo9SQGoD"
      },
      "source": [
        "## exercicio 1\n",
        "\n",
        "class Ponto:\n",
        "    \"\"\" Cria um novo Ponto, com coordenadas x, y \"\"\"\n",
        "\n",
        "    def __init__(self, x=0, y=0):\n",
        "        \"\"\" Inicializa em x, y o novo ponto criado pela classe \"\"\"\n",
        "        self.x = x\n",
        "        self.y = y\n",
        "\n",
        "    def distancia_da_origem(self):\n",
        "        \"\"\" Calcula minha distânica da origem \"\"\"\n",
        "        return ((self.x ** 2) + (self.y ** 2)) ** 0.5\n",
        "    \n",
        "    def ponto_medio(self, alvo):\n",
        "        \"\"\" Retorna o ponto medio entre esse ponto e o alvo \"\"\"\n",
        "        mx = (self.x + alvo.x)/2\n",
        "        my = (self.y + alvo.y)/2\n",
        "        return Ponto(mx, my)\n",
        "\n",
        "    def __str__(self):\n",
        "        return \"({0}, {1})\".format(self.x, self.y)\n",
        "\n",
        "\n",
        "def distancia(pt1,pt2) :\n",
        "    return ((pt1.x - pt2.x)**2+(pt1.y - pt2.y)**2)**0.5\n",
        "\n",
        "distancia(Ponto(3,2),Ponto(3,1))"
      ],
      "execution_count": null,
      "outputs": []
    },
    {
      "cell_type": "code",
      "metadata": {
        "id": "KexUcKnciwPt"
      },
      "source": [
        "## exercicio 2\n",
        "\n",
        "class Ponto:\n",
        "    \"\"\" Cria um novo Ponto, com coordenadas x, y \"\"\"\n",
        "\n",
        "    def __init__(self, x=0, y=0):\n",
        "        \"\"\" Inicializa em x, y o novo ponto criado pela classe \"\"\"\n",
        "        self.x = x\n",
        "        self.y = y\n",
        "\n",
        "    def distancia_da_origem(self):\n",
        "        \"\"\" Calcula minha distânica da origem \"\"\"\n",
        "        return ((self.x ** 2) + (self.y ** 2)) ** 0.5\n",
        "    \n",
        "    def ponto_medio(self, alvo):\n",
        "        \"\"\" Retorna o ponto medio entre esse ponto e o alvo \"\"\"\n",
        "        mx = (self.x + alvo.x)/2\n",
        "        my = (self.y + alvo.y)/2\n",
        "        return Ponto(mx, my)\n",
        "\n",
        "    def reflexao_x(self):\n",
        "        return self.x,-self.y    \n",
        "\n",
        "    def __str__(self):\n",
        "        return \"({0}, {1})\".format(self.x, self.y)\n",
        "\n",
        "\n",
        "r = Ponto(3,2)\n",
        "r.reflexao_x()"
      ],
      "execution_count": null,
      "outputs": []
    },
    {
      "cell_type": "code",
      "metadata": {
        "colab": {
          "base_uri": "https://localhost:8080/"
        },
        "id": "7ImNYa5BkUAh",
        "outputId": "d841e638-f762-4949-db6d-b012fea12746"
      },
      "source": [
        "## exercicio 3\n",
        "\n",
        "class Ponto:\n",
        "    \"\"\" Cria um novo Ponto, com coordenadas x, y \"\"\"\n",
        "\n",
        "    def __init__(self, x=0, y=0):\n",
        "        \"\"\" Inicializa em x, y o novo ponto criado pela classe \"\"\"\n",
        "        self.x = x\n",
        "        self.y = y\n",
        "\n",
        "    def distancia_da_origem(self):\n",
        "        \"\"\" Calcula minha distânica da origem \"\"\"\n",
        "        return ((self.x ** 2) + (self.y ** 2)) ** 0.5\n",
        "    \n",
        "    def ponto_medio(self, alvo):\n",
        "        \"\"\" Retorna o ponto medio entre esse ponto e o alvo \"\"\"\n",
        "        mx = (self.x + alvo.x)/2\n",
        "        my = (self.y + alvo.y)/2\n",
        "        return Ponto(mx, my)\n",
        "    \n",
        "    def inclinacao_da_origem(self):\n",
        "        from math import atan\n",
        "        from math import pi\n",
        "        return atan(self.y/self.x) \n",
        "\n",
        "    def reflexao_x(self):\n",
        "        return self.x,-self.y    \n",
        "\n",
        "    def __str__(self):\n",
        "        return \"({0}, {1})\".format(self.x, self.y)\n",
        "\n",
        "Ponto(4,4).inclinacao_da_origem()\n",
        "\n",
        "# possivel erro com esse programa é não definir a unidade da medida ou se é em graus ou se é em radianos"
      ],
      "execution_count": 35,
      "outputs": [
        {
          "output_type": "execute_result",
          "data": {
            "text/plain": [
              "0.7853981633974483"
            ]
          },
          "metadata": {},
          "execution_count": 35
        }
      ]
    },
    {
      "cell_type": "code",
      "metadata": {
        "colab": {
          "base_uri": "https://localhost:8080/"
        },
        "id": "IPnB_bf_n1Ms",
        "outputId": "56440a88-4355-4548-8d02-fb9a7805e483"
      },
      "source": [
        "## exercicio 4 \n",
        "\n",
        "class Ponto:\n",
        "    \"\"\" Cria um novo Ponto, com coordenadas x, y \"\"\"\n",
        "\n",
        "    def __init__(self, x=0, y=0):\n",
        "        \"\"\" Inicializa em x, y o novo ponto criado pela classe \"\"\"\n",
        "        self.x = x\n",
        "        self.y = y\n",
        "\n",
        "    def distancia_da_origem(self):\n",
        "        \"\"\" Calcula minha distânica da origem \"\"\"\n",
        "        return ((self.x ** 2) + (self.y ** 2)) ** 0.5\n",
        "    \n",
        "    def ponto_medio(self, alvo):\n",
        "        \"\"\" Retorna o ponto medio entre esse ponto e o alvo \"\"\"\n",
        "        mx = (self.x + alvo.x)/2\n",
        "        my = (self.y + alvo.y)/2\n",
        "        return Ponto(mx, my)\n",
        "    \n",
        "    def inclinacao_da_origem(self):\n",
        "        from math import atan\n",
        "        from math import pi\n",
        "        return atan(self.y/self.x) \n",
        "\n",
        "    def reflexao_x(self):\n",
        "        return self.x,-self.y    \n",
        "\n",
        "    def  parametros_reta(self,pt) :\n",
        "        from math import atan\n",
        "        a = (pt.y-self.y)/(pt.x-self.x)\n",
        "        b = self.y - (a*self.x)\n",
        "        return a,b \n",
        "\n",
        "    def __str__(self):\n",
        "        return \"({0}, {1})\".format(self.x, self.y)\n",
        "\n",
        "print(Ponto(0,1).parametros_reta(Ponto(1,0)))"
      ],
      "execution_count": 53,
      "outputs": [
        {
          "output_type": "stream",
          "name": "stdout",
          "text": [
            "(-1.0, 1.0)\n"
          ]
        }
      ]
    },
    {
      "cell_type": "code",
      "metadata": {
        "id": "j24DASjQ0eZe"
      },
      "source": [
        ""
      ],
      "execution_count": null,
      "outputs": []
    },
    {
      "cell_type": "code",
      "metadata": {
        "id": "2vZ3HYgay2Dw"
      },
      "source": [
        "## exercicio 5\n",
        "class Ponto:\n",
        "    \"\"\" Cria um novo Ponto, com coordenadas x, y \"\"\"\n",
        "\n",
        "    def __init__(self, x=0, y=0):\n",
        "        \"\"\" Inicializa em x, y o novo ponto criado pela classe \"\"\"\n",
        "        self.x = x\n",
        "        self.y = y\n",
        "\n",
        "    def distancia_da_origem(self):\n",
        "        \"\"\" Calcula minha distânica da origem \"\"\"\n",
        "        return ((self.x ** 2) + (self.y ** 2)) ** 0.5\n",
        "    \n",
        "    def ponto_medio(self, alvo):\n",
        "        \"\"\" Retorna o ponto medio entre esse ponto e o alvo \"\"\"\n",
        "        mx = (self.x + alvo.x)/2\n",
        "        my = (self.y + alvo.y)/2\n",
        "        return Ponto(mx, my)\n",
        "    \n",
        "    def inclinacao_da_origem(self):\n",
        "        from math import atan\n",
        "        from math import pi\n",
        "        return atan(self.y/self.x) \n",
        "\n",
        "    def reflexao_x(self):\n",
        "        return self.x,-self.y    \n",
        "\n",
        "    def  parametros_reta(self,pt) :\n",
        "        from math import atan\n",
        "        a = (pt.y-self.y)/(pt.x-self.x)\n",
        "        b = self.y - (a*self.x)\n",
        "        return a,b \n",
        "\n",
        "    def __str__(self):\n",
        "        return \"({0}, {1})\".format(self.x, self.y)\n",
        "\n",
        "class Rectangle:\n",
        "    \"\"\"Representa um retangulo. \n",
        "\n",
        "    atributos: \n",
        "    - largura, do tipo float\n",
        "    - altura, do tipo float \n",
        "    - canto, do tipo Ponto.\n",
        "    \"\"\"\n",
        "    def __init__ (self,canto,l,h) :\n",
        "        self.canto = canto\n",
        "        self.largura = l\n",
        "        self.altura = h\n",
        "  \n"
      ],
      "execution_count": 108,
      "outputs": []
    },
    {
      "cell_type": "code",
      "metadata": {
        "id": "zUblFROlJMjv"
      },
      "source": [
        "## exercicio 6\n",
        "\n",
        "class Ponto:\n",
        "    \"\"\" Cria um novo Ponto, com coordenadas x, y \"\"\"\n",
        "\n",
        "    def __init__(self, x=0, y=0):\n",
        "        \"\"\" Inicializa em x, y o novo ponto criado pela classe \"\"\"\n",
        "        self.x = x\n",
        "        self.y = y\n",
        "\n",
        "    def distancia_da_origem(self):\n",
        "        \"\"\" Calcula minha distânica da origem \"\"\"\n",
        "        return ((self.x ** 2) + (self.y ** 2)) ** 0.5\n",
        "    \n",
        "    def ponto_medio(self, alvo):\n",
        "        \"\"\" Retorna o ponto medio entre esse ponto e o alvo \"\"\"\n",
        "        mx = (self.x + alvo.x)/2\n",
        "        my = (self.y + alvo.y)/2\n",
        "        return Ponto(mx, my)\n",
        "    \n",
        "    def inclinacao_da_origem(self):\n",
        "        from math import atan\n",
        "        from math import pi\n",
        "        return atan(self.y/self.x) \n",
        "\n",
        "    def reflexao_x(self):\n",
        "        return self.x,-self.y    \n",
        "\n",
        "    def  parametros_reta(self,pt) :\n",
        "        from math import atan\n",
        "        a = (pt.y-self.y)/(pt.x-self.x)\n",
        "        b = self.y - (a*self.x)\n",
        "        return a,b \n",
        "\n",
        "    def __str__(self):\n",
        "        return \"({0}, {1})\".format(self.x, self.y)\n",
        "\n",
        "class Circulo:\n",
        "    \n",
        "    def __init__(self,c,r):\n",
        "        self.centro =  c\n",
        "        self.raio = r\n",
        "    \n",
        "\n",
        "circulo1 = Circulo(Ponto(150,100),75)\n",
        "print(circulo1.centro.x,circulo1.centro.y)"
      ],
      "execution_count": null,
      "outputs": []
    },
    {
      "cell_type": "code",
      "metadata": {
        "id": "BUwCyFHXVeGP"
      },
      "source": [
        "## exercicio 7\n",
        "\n",
        "!pip3 install ColabTurtle\n",
        "from ColabTurtle import Turtle as tatauga\n",
        "tatauga.initializeTurtle()\n",
        "tatauga.color('white')\n",
        "\n",
        "def desenhar_ret(t,ret) :\n",
        "    retangulo = ret\n",
        "    for i in range(2):\n",
        "      t.forward(retangulo.largura)\n",
        "      t.left(90)\n",
        "      t.forward(retangulo.altura)\n",
        "      t.left(90)\n",
        "\n",
        "desenhar_ret(tatauga,Rectangle(Ponto(0,0),100,100))"
      ],
      "execution_count": null,
      "outputs": []
    },
    {
      "cell_type": "code",
      "metadata": {
        "id": "4a4LeDKyZKtS"
      },
      "source": [
        "## exercicio 8\n",
        "\n",
        "!pip3 install ColabTurtle\n",
        "from ColabTurtle import Turtle as tatauga\n",
        "tatauga.initializeTurtle()\n",
        "tatauga.color('white')\n",
        "tatauga.speed(13)\n",
        "def desenhar_circulo(t,circ) :\n",
        "    circulo = circ\n",
        "    def polygon(t,comprimento,n):\n",
        "        alfa = 360/n\n",
        "        for i in range(n):\n",
        "            t.forward(comprimento)\n",
        "            t.left(alfa)\n",
        "\n",
        "    circumferencia = 2 * math.pi * circulo.raio  \n",
        "    n = int((circumferencia / 3) + 3)\n",
        "    length = circumferencia / n     \n",
        "    polygon(t, length, n)\n",
        "\n",
        "desenhar_circulo(tatauga,Circulo(Ponto(0,0),100))"
      ],
      "execution_count": null,
      "outputs": []
    }
  ]
}