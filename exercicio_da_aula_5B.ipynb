{
  "nbformat": 4,
  "nbformat_minor": 0,
  "metadata": {
    "colab": {
      "name": "exercicio_da_aula_5B.ipynb",
      "provenance": [],
      "authorship_tag": "ABX9TyOgg3tSSQ0Rd5gn3jioC6kV",
      "include_colab_link": true
    },
    "kernelspec": {
      "name": "python3",
      "display_name": "Python 3"
    },
    "language_info": {
      "name": "python"
    }
  },
  "cells": [
    {
      "cell_type": "markdown",
      "metadata": {
        "id": "view-in-github",
        "colab_type": "text"
      },
      "source": [
        "<a href=\"https://colab.research.google.com/github/VGozzi/Intro_Python/blob/main/exercicio_da_aula_5B.ipynb\" target=\"_parent\"><img src=\"https://colab.research.google.com/assets/colab-badge.svg\" alt=\"Open In Colab\"/></a>"
      ]
    },
    {
      "cell_type": "markdown",
      "metadata": {
        "id": "IMxzhtXg-c2u"
      },
      "source": [
        "## exercicios da Parte 2 "
      ]
    },
    {
      "cell_type": "markdown",
      "metadata": {
        "id": "BeQ0X84x-nAF"
      },
      "source": [
        "exercicio 1 : https://trinket.io/turtle/ec33278f98\n"
      ]
    },
    {
      "cell_type": "markdown",
      "metadata": {
        "id": "0Y-3yJyjFD0o"
      },
      "source": [
        "exercicio 2 : https://trinket.io/turtle/8d2cdf3aa7"
      ]
    },
    {
      "cell_type": "markdown",
      "metadata": {
        "id": "MwQucl_YR1-p"
      },
      "source": [
        "exercicio 3 : https://trinket.io/turtle/ec33278f98\n"
      ]
    },
    {
      "cell_type": "markdown",
      "metadata": {
        "id": "t-oLqxtIF8Nc"
      },
      "source": [
        "exercicio 5: https://trinket.io/turtle/4455af73c1"
      ]
    }
  ]
}