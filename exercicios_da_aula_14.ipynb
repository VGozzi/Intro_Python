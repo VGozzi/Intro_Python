{
  "nbformat": 4,
  "nbformat_minor": 0,
  "metadata": {
    "colab": {
      "name": "exercicios_da_aula_14.ipynb",
      "provenance": [],
      "authorship_tag": "ABX9TyO6hD2bGeAX0vnPK3/5Pet5",
      "include_colab_link": true
    },
    "kernelspec": {
      "name": "python3",
      "display_name": "Python 3"
    },
    "language_info": {
      "name": "python"
    }
  },
  "cells": [
    {
      "cell_type": "markdown",
      "metadata": {
        "id": "view-in-github",
        "colab_type": "text"
      },
      "source": [
        "<a href=\"https://colab.research.google.com/github/VGozzi/Intro_Python/blob/main/exercicios_da_aula_14.ipynb\" target=\"_parent\"><img src=\"https://colab.research.google.com/assets/colab-badge.svg\" alt=\"Open In Colab\"/></a>"
      ]
    },
    {
      "cell_type": "code",
      "metadata": {
        "id": "HE0WUNZth8-F",
        "colab": {
          "base_uri": "https://localhost:8080/"
        },
        "outputId": "42eb5af0-4022-4ea6-edeb-c48e073aa382"
      },
      "source": [
        "# exercicio Sobrecarga dos operadores\n",
        "\n",
        "class  MeuTempo : \n",
        "    # Métodos previamente definidos aqui ... \n",
        "    def  __init__ ( self ,  hrs = 0 ,  mins = 0 ,  segs = 0 ): \n",
        "        \"\"\" Criar um novo objeto MeuTempo inicializado para hrs, min, segs. \n",
        "           Os valores de mins e segs podem estar fora do intervalo de 0-59, \n",
        "           mas o objecto MeuTempo resultante será normalizado.  \"\"\" \n",
        "        # Calcular total de segundos para representar \n",
        "        self.totalsegs =  hrs * 3600  +  mins * 60  +  segs \n",
        "        self.horas =  self.totalsegs  //  3600         # Divisão em h, m, s \n",
        "        restosegs =  self.totalsegs  %  3600 \n",
        "        self.minutos  =  restosegs  //  60 \n",
        "        self.segundos  =  restosegs  %  60\n",
        "        if self.horas >=24:\n",
        "            self.horas = self.horas%24\n",
        "    def  to_seconds ( self ): \n",
        "        \"\" \"Retorna o número de segundos representados por esta instância \" \"\" \n",
        "        return  self.totalsegs\n",
        "    \n",
        "    def  __add__ ( self ,  other ): \n",
        "        \"\"\" Retorna a soma do tempo atual e outro, para utilizar com o simbolo + \"\"\"\n",
        "        return  MeuTempo ( 0 ,  0 ,  self.to_seconds()  +  other.to_seconds())\n",
        "   \n",
        "    def __sub__(self, other):\n",
        "        \"\"\" Retorna a soma do tempo atual e outro, para utilizar com o simbolo - \"\"\"\n",
        "        return  MeuTempo ( 0 ,  0 ,  self.to_seconds()  -  other.to_seconds())\n",
        "    \n",
        "    def __str__(self):\n",
        "        \"\"\"Retorna uma representação do objeto como string, legível para humanos.\"\"\"\n",
        "        return '%.2d:%.2d:%.2d' % (self.horas, self.minutos, self.segundos)  \n",
        "\n",
        "\n",
        "a=MeuTempo(1,40,30)\n",
        "b=MeuTempo(12,55,15)\n",
        "print(b,a) #os dois tempos iniciais a e b\n",
        "print(b - a) #o resultado da soma \"normalizada\"\n",
        "print(b,a) #os valores de a e b não mudaram!!"
      ],
      "execution_count": 80,
      "outputs": [
        {
          "output_type": "stream",
          "name": "stdout",
          "text": [
            "12:55:15 01:40:30\n",
            "11:14:45\n",
            "12:55:15 01:40:30\n"
          ]
        }
      ]
    },
    {
      "cell_type": "code",
      "metadata": {
        "colab": {
          "base_uri": "https://localhost:8080/"
        },
        "id": "sVkxvbZICglV",
        "outputId": "62481605-97a0-4a20-ebfa-e39ce5771d08"
      },
      "source": [
        "z=MeuTempo(1,40,30).totalsegs\n",
        "print(z)"
      ],
      "execution_count": 81,
      "outputs": [
        {
          "output_type": "stream",
          "name": "stdout",
          "text": [
            "6030\n"
          ]
        }
      ]
    },
    {
      "cell_type": "code",
      "metadata": {
        "id": "TPUz2PHRmp12",
        "colab": {
          "base_uri": "https://localhost:8080/"
        },
        "outputId": "7e3d0eab-b3fd-4c40-8357-11edcbe7f8d3"
      },
      "source": [
        "## exercicio 1\n",
        "\n",
        "def entre(t,t1,t2) :\n",
        "  if t1 <= t2 :\n",
        "    if t >= t1 and t < t2 :\n",
        "      return True\n",
        "    else :\n",
        "      return False\n",
        "  else :\n",
        "    if t >= t2 and t < t1 :\n",
        "      return True\n",
        "    else :\n",
        "      return False\n",
        "\n",
        "t1 = MeuTempo(1,55,15).totalsegs\n",
        "t2 = MeuTempo(12,40,30).totalsegs\n",
        "t = MeuTempo(2,30,59).totalsegs\n",
        "entre(t,t1,t2)"
      ],
      "execution_count": 82,
      "outputs": [
        {
          "output_type": "execute_result",
          "data": {
            "text/plain": [
              "True"
            ]
          },
          "metadata": {},
          "execution_count": 82
        }
      ]
    },
    {
      "cell_type": "code",
      "metadata": {
        "id": "RfJyAcecC8WT"
      },
      "source": [
        "## exercicio 2 e 3\n",
        "class  MeuTempo : \n",
        "    # Métodos previamente definidos aqui ... \n",
        "    def  __init__ ( self ,  hrs = 0 ,  mins = 0 ,  segs = 0 ): \n",
        "        \"\"\" Criar um novo objeto MeuTempo inicializado para hrs, min, segs. \n",
        "           Os valores de mins e segs podem estar fora do intervalo de 0-59, \n",
        "           mas o objecto MeuTempo resultante será normalizado.  \"\"\" \n",
        "        # Calcular total de segundos para representar \n",
        "        self.totalsegs =  hrs * 3600  +  mins * 60  +  segs \n",
        "        self.horas =  self.totalsegs  //  3600         # Divisão em h, m, s \n",
        "        restosegs =  self.totalsegs  %  3600 \n",
        "        self.minutos  =  restosegs  //  60 \n",
        "        self.segundos  =  restosegs  %  60\n",
        "        if self.horas >=24:\n",
        "            self.horas = self.horas%24\n",
        "    def  to_seconds ( self ): \n",
        "        \"\" \"Retorna o número de segundos representados por esta instância \" \"\" \n",
        "        return  self.totalsegs\n",
        "\n",
        "    def __lt__(self,other):\n",
        "        return self.totalsegs < other.totalsegs \n",
        "\n",
        "    def __ge__(self,other) :\n",
        "        return self.totalsegs >= other.totalsegs \n",
        "      \n",
        "    def  __add__ ( self ,  other ): \n",
        "        \"\"\" Retorna a soma do tempo atual e outro, para utilizar com o simbolo + \"\"\"\n",
        "        return  MeuTempo ( 0 ,  0 ,  self.to_seconds()  +  other.to_seconds())\n",
        "   \n",
        "    def __sub__(self, other):\n",
        "        \"\"\" Retorna a soma do tempo atual e outro, para utilizar com o simbolo - \"\"\"\n",
        "        return  MeuTempo ( 0 ,  0 ,  self.to_seconds()  -  other.to_seconds())\n",
        "\n",
        "    def entre (self,t1,t2) :\n",
        "        if t2 >= t1 :\n",
        "          if self >= t1 and self < t2:\n",
        "            return True\n",
        "          else :\n",
        "            return False\n",
        "        else :\n",
        "          if self >= t2 and self < t1:\n",
        "            return True\n",
        "          else :\n",
        "            return False\n",
        "\n",
        "    def __str__(self):\n",
        "        \"\"\"Retorna uma representação do objeto como string, legível para humanos.\"\"\"\n",
        "        return '%.2d:%.2d:%.2d' % (self.horas, self.minutos, self.segundos)  \n",
        "\n",
        "\n",
        "\n",
        "t=MeuTempo(12,54,40)\n",
        "t1=MeuTempo(10,40,30)\n",
        "t2=MeuTempo(12,55,15)\n",
        "\n",
        "t.entre(t2,t1)\n",
        "\n",
        "\n"
      ],
      "execution_count": null,
      "outputs": []
    }
  ]
}