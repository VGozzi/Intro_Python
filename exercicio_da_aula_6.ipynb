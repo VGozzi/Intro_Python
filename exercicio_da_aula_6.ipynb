{
  "nbformat": 4,
  "nbformat_minor": 0,
  "metadata": {
    "colab": {
      "name": "exercicio_da_aula_6.ipynb",
      "provenance": [],
      "authorship_tag": "ABX9TyPr7rpgIzY2dZcGLIXC8DCv",
      "include_colab_link": true
    },
    "kernelspec": {
      "name": "python3",
      "display_name": "Python 3"
    },
    "language_info": {
      "name": "python"
    }
  },
  "cells": [
    {
      "cell_type": "markdown",
      "metadata": {
        "id": "view-in-github",
        "colab_type": "text"
      },
      "source": [
        "<a href=\"https://colab.research.google.com/github/VGozzi/Intro_Python/blob/main/exercicio_da_aula_6.ipynb\" target=\"_parent\"><img src=\"https://colab.research.google.com/assets/colab-badge.svg\" alt=\"Open In Colab\"/></a>"
      ]
    },
    {
      "cell_type": "markdown",
      "metadata": {
        "id": "HPrCuVoyUODh"
      },
      "source": [
        "questão 1 : https://trinket.io/turtle/38106fe1bf\n"
      ]
    },
    {
      "cell_type": "code",
      "metadata": {
        "id": "gB8QVbyKfv9N"
      },
      "source": [
        "## questão 3 :\n",
        "import matplotlib.pyplot as plt\n",
        "\n",
        "n = int(input(\"numero total de dados: \"))\n",
        "print(\"coloque os dados em ordem crescente abaixo: \")\n",
        "dados = [input() for i in range(n)]\n",
        "\n",
        "cor = input(\"escolha a cor do histograma:\")\n",
        "classe_frequencia =int(input(\"escolha a classe de frequencia:\"))\n",
        "\n",
        "n,bin, _ = plt.hist(dados,color=cor,bins=classe_frequencia)\n",
        "\n",
        "plt.xlabel(\"Valores\")\n",
        "plt.ylabel(\"Frequência absoluta\")\n",
        "plt.title(\"Histograma\")\n",
        "plt.show()\n",
        "\n"
      ],
      "execution_count": null,
      "outputs": []
    }
  ]
}