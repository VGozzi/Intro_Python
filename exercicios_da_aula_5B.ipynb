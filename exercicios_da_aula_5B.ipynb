{
  "nbformat": 4,
  "nbformat_minor": 0,
  "metadata": {
    "colab": {
      "name": "exercicios_da_aula_5B.ipynb",
      "provenance": [],
      "authorship_tag": "ABX9TyMsHYjzMWprGjFphLhS/MGH",
      "include_colab_link": true
    },
    "kernelspec": {
      "name": "python3",
      "display_name": "Python 3"
    },
    "language_info": {
      "name": "python"
    }
  },
  "cells": [
    {
      "cell_type": "markdown",
      "metadata": {
        "id": "view-in-github",
        "colab_type": "text"
      },
      "source": [
        "<a href=\"https://colab.research.google.com/github/VGozzi/Intro_Python/blob/main/exercicios_da_aula_5B.ipynb\" target=\"_parent\"><img src=\"https://colab.research.google.com/assets/colab-badge.svg\" alt=\"Open In Colab\"/></a>"
      ]
    },
    {
      "cell_type": "markdown",
      "metadata": {
        "id": "DYe9OLr8LOc3"
      },
      "source": [
        "## exercicios da Parte 2 "
      ]
    },
    {
      "cell_type": "markdown",
      "metadata": {
        "id": "kBDa-D_MLQgX"
      },
      "source": [
        "exercicio 1 : https://trinket.io/turtle/ec33278f98"
      ]
    },
    {
      "cell_type": "markdown",
      "metadata": {
        "id": "YYMkV-EfLSCT"
      },
      "source": [
        "exercicio 2 : https://trinket.io/turtle/8d2cdf3aa7"
      ]
    },
    {
      "cell_type": "markdown",
      "metadata": {
        "id": "NO3iX8GDLTpT"
      },
      "source": [
        "exercicio 3 : https://trinket.io/turtle/d75675c8ff\n",
        "\n",
        "\n",
        "\n",
        "---\n",
        "\n"
      ]
    },
    {
      "cell_type": "markdown",
      "metadata": {
        "id": "eLcc3UCzLUmD"
      },
      "source": [
        "exercicio 5: https://trinket.io/turtle/4455af73c1"
      ]
    }
  ]
}