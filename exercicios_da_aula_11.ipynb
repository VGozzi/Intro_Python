{
  "nbformat": 4,
  "nbformat_minor": 0,
  "metadata": {
    "colab": {
      "name": "exercicios_da_aula_10.ipynb",
      "provenance": [],
      "authorship_tag": "ABX9TyNz1QjNbJkOQJVXN3PF6nr8",
      "include_colab_link": true
    },
    "kernelspec": {
      "name": "python3",
      "display_name": "Python 3"
    },
    "language_info": {
      "name": "python"
    }
  },
  "cells": [
    {
      "cell_type": "markdown",
      "metadata": {
        "id": "view-in-github",
        "colab_type": "text"
      },
      "source": [
        "<a href=\"https://colab.research.google.com/github/VGozzi/Intro_Python/blob/main/exercicios_da_aula_11.ipynb\" target=\"_parent\"><img src=\"https://colab.research.google.com/assets/colab-badge.svg\" alt=\"Open In Colab\"/></a>"
      ]
    },
    {
      "cell_type": "code",
      "metadata": {
        "id": "jk_ZpiXeNy4T"
      },
      "source": [
        "## exercicio 1\n",
        "\n",
        "matriz ={(1,1):0,(1,2):0,(1,3):0,(1,4):1,(1,5):0,(2,1):0,(2,2):0,(2,3):0,(2,4):0,(2,5):0,(3,1):0,(3,2):2,(3,3):0,(3,4):0,(3,5):0,(4,1):0,(4,2):0,(4,3):0,(4,4):0,(4,5):0,(5,1):0,(5,2):0,(5,3):0,(5,4):3,(5,5):0}\n",
        "\n",
        "\n",
        "\n",
        "# adicionei mais 1 a coluna e a linha pedida, pois n considerei a linha 0 e coluna 0\n",
        "print(matriz.get((1,4)))\n",
        "print(matriz.get((3,2)))\n",
        "print(matriz.get((5,4)))\n",
        "print(matriz.get((3,3)))\n"
      ],
      "execution_count": null,
      "outputs": []
    },
    {
      "cell_type": "code",
      "metadata": {
        "colab": {
          "base_uri": "https://localhost:8080/"
        },
        "id": "iq_sl0jIPTM6",
        "outputId": "e03be13c-e49a-42a3-b9df-1e1e4ba48235"
      },
      "source": [
        "## exercicio 2a\n",
        "\n",
        "def tabela_freq(palavra) :\n",
        "  dic = {}\n",
        "  lista = list(palavra)\n",
        "  for letra in lista :\n",
        "    dic[letra] = palavra.count(letra)\n",
        "    \n",
        "  return dic      # não utilizei return pq voltava em ordem alfabetica\n",
        "\n",
        "tabela_freq('azulmarill')"
      ],
      "execution_count": 15,
      "outputs": [
        {
          "output_type": "execute_result",
          "data": {
            "text/plain": [
              "{'a': 2, 'i': 1, 'l': 3, 'm': 1, 'r': 1, 'u': 1, 'z': 1}"
            ]
          },
          "metadata": {},
          "execution_count": 15
        }
      ]
    },
    {
      "cell_type": "code",
      "metadata": {
        "colab": {
          "base_uri": "https://localhost:8080/"
        },
        "id": "dQQHbdeFT02Q",
        "outputId": "38508497-aa8f-466e-9c1e-ffbe68c71430"
      },
      "source": [
        "# exercicio 2b  \n",
        "\n",
        "def tabela_freq_ordenada(palavra) :\n",
        "  x = tabela_freq(palavra).items()\n",
        "  return sorted(x)  \n",
        "\n",
        "tabela_freq_ordenada('azulmarill')"
      ],
      "execution_count": 35,
      "outputs": [
        {
          "output_type": "execute_result",
          "data": {
            "text/plain": [
              "[('a', 2), ('i', 1), ('l', 3), ('m', 1), ('r', 1), ('u', 1), ('z', 1)]"
            ]
          },
          "metadata": {},
          "execution_count": 35
        }
      ]
    },
    {
      "cell_type": "code",
      "metadata": {
        "id": "HVVa-V-uWDqU"
      },
      "source": [
        "# exercicio 3 (refazer)\n",
        "\n",
        "palavra = input('escreva uma frase ou uma palavra :')\n",
        "palavra_minusculo = palavra.lower()\n",
        "a = tabela_freq_ordenada(palavra_minusculo)\n",
        "for i in a:\n",
        "  lista = list(i)\n",
        "  if lista[0] == ' ' :\n",
        "    continue\n",
        "  else :\n",
        "    print(lista[0],lista[1]) \n",
        "\n",
        "\n",
        "\n",
        "     \n",
        "\n",
        "\n",
        "\n",
        "\n",
        "\n"
      ],
      "execution_count": null,
      "outputs": []
    }
  ]
}