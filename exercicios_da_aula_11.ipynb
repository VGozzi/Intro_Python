{
  "nbformat": 4,
  "nbformat_minor": 0,
  "metadata": {
    "colab": {
      "name": "exercicios_da_aula_10.ipynb",
      "provenance": [],
      "authorship_tag": "ABX9TyONbjo/Bd0sQOnKlEzjczI8",
      "include_colab_link": true
    },
    "kernelspec": {
      "name": "python3",
      "display_name": "Python 3"
    },
    "language_info": {
      "name": "python"
    }
  },
  "cells": [
    {
      "cell_type": "markdown",
      "metadata": {
        "id": "view-in-github",
        "colab_type": "text"
      },
      "source": [
        "<a href=\"https://colab.research.google.com/github/VGozzi/Intro_Python/blob/main/exercicios_da_aula_11.ipynb\" target=\"_parent\"><img src=\"https://colab.research.google.com/assets/colab-badge.svg\" alt=\"Open In Colab\"/></a>"
      ]
    },
    {
      "cell_type": "code",
      "metadata": {
        "id": "jk_ZpiXeNy4T"
      },
      "source": [
        "## exercicio 1\n",
        "\n",
        "matriz ={(1,1):0,(1,2):0,(1,3):0,(1,4):1,(1,5):0,(2,1):0,(2,2):0,(2,3):0,(2,4):0,(2,5):0,(3,1):0,(3,2):2,(3,3):0,(3,4):0,(3,5):0,(4,1):0,(4,2):0,(4,3):0,(4,4):0,(4,5):0,(5,1):0,(5,2):0,(5,3):0,(5,4):3,(5,5):0}\n",
        "\n",
        "\n",
        "# adicionei mais 1 a coluna e a linha pedida, pois n considerei a linha 0 e coluna 0\n",
        "print(matriz.get((1,4)))\n",
        "print(matriz.get((3,2)))\n",
        "print(matriz.get((5,4)))\n",
        "print(matriz.get((3,3)))\n"
      ],
      "execution_count": null,
      "outputs": []
    },
    {
      "cell_type": "code",
      "metadata": {
        "colab": {
          "base_uri": "https://localhost:8080/"
        },
        "id": "iq_sl0jIPTM6",
        "outputId": "32056d66-b274-4f07-a023-7862ef4f0c55"
      },
      "source": [
        "## exercicio 2a\n",
        "\n",
        "def tabela_freq(palavra) :\n",
        "  dic = {}\n",
        "  lista = list(palavra)\n",
        "  for letra in lista :\n",
        "    dic[letra] = palavra.count(letra)\n",
        "    \n",
        "  print(dic)      # não utilizei return pq voltava em ordem alfabetica\n",
        "\n",
        "tabela_freq('azulmarill')"
      ],
      "execution_count": 89,
      "outputs": [
        {
          "output_type": "stream",
          "name": "stdout",
          "text": [
            "{'a': 2, 'z': 1, 'u': 1, 'l': 3, 'm': 1, 'r': 1, 'i': 1}\n"
          ]
        }
      ]
    },
    {
      "cell_type": "code",
      "metadata": {
        "colab": {
          "base_uri": "https://localhost:8080/"
        },
        "id": "dQQHbdeFT02Q",
        "outputId": "d3659f58-ed76-4f98-94a9-b2ae6af8c3da"
      },
      "source": [
        "# exercicio 2b\n",
        "\n",
        "def tabela_freq_ordenada(palavra) :\n",
        "  dic = {}\n",
        "  lista = list(palavra)\n",
        "  lista_ordenada = sorted(lista)\n",
        "  for letra in lista_ordenada :\n",
        "    dic[letra] = palavra.count(letra)\n",
        "  \n",
        "  print(dic)  \n",
        "\n",
        "tabela_freq_ordenada('azulmarill')"
      ],
      "execution_count": 90,
      "outputs": [
        {
          "output_type": "stream",
          "name": "stdout",
          "text": [
            "{'a': 2, 'i': 1, 'l': 3, 'm': 1, 'r': 1, 'u': 1, 'z': 1}\n"
          ]
        }
      ]
    },
    {
      "cell_type": "code",
      "metadata": {
        "colab": {
          "base_uri": "https://localhost:8080/"
        },
        "id": "HVVa-V-uWDqU",
        "outputId": "a10a5cb7-5fe4-487e-e1f0-4d369efdcf7e"
      },
      "source": [
        "# exercicio 3\n",
        "\n",
        "palavra = input('escreva uma frase ou uma palavra :')\n",
        "dic = {}\n",
        "palavra_minusculo = palavra.lower()\n",
        "lista = list(palavra_minusculo)\n",
        "lista_ordenada = sorted(lista)\n",
        "for letra in lista_ordenada :\n",
        "  if letra == ' ' :\n",
        "    continue\n",
        "  else :\n",
        "    dic[letra] = palavra_minusculo.count(letra)\n",
        "\n",
        "for chave,valor in dic.items() :\n",
        "    print(chave,valor)\n",
        "\n",
        "\n",
        "\n",
        "\n"
      ],
      "execution_count": 107,
      "outputs": [
        {
          "output_type": "stream",
          "name": "stdout",
          "text": [
            "escreva uma frase ou uma palavra :ThiS is String with Upper and lower case Letters\n",
            "a 2\n",
            "c 1\n",
            "d 1\n",
            "e 5\n",
            "g 1\n",
            "h 2\n",
            "i 4\n",
            "l 2\n",
            "n 2\n",
            "o 1\n",
            "p 2\n",
            "r 4\n",
            "s 5\n",
            "t 5\n",
            "u 1\n",
            "w 2\n"
          ]
        }
      ]
    }
  ]
}