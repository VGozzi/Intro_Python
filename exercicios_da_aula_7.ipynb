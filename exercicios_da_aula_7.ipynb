{
  "nbformat": 4,
  "nbformat_minor": 0,
  "metadata": {
    "colab": {
      "name": "exercicios_da_aula_7.ipynb",
      "provenance": [],
      "authorship_tag": "ABX9TyMCeQYYVyHN74CdEkvKBHpN",
      "include_colab_link": true
    },
    "kernelspec": {
      "name": "python3",
      "display_name": "Python 3"
    },
    "language_info": {
      "name": "python"
    }
  },
  "cells": [
    {
      "cell_type": "markdown",
      "metadata": {
        "id": "view-in-github",
        "colab_type": "text"
      },
      "source": [
        "<a href=\"https://colab.research.google.com/github/VGozzi/Intro_Python/blob/main/exercicios_da_aula_7.ipynb\" target=\"_parent\"><img src=\"https://colab.research.google.com/assets/colab-badge.svg\" alt=\"Open In Colab\"/></a>"
      ]
    },
    {
      "cell_type": "markdown",
      "metadata": {
        "id": "4IJz-WMUDlRt"
      },
      "source": [
        "##Exercicios Parte 1"
      ]
    },
    {
      "cell_type": "code",
      "metadata": {
        "id": "rleB_byvDpCg"
      },
      "source": [
        "## exercicio 1\n",
        "\"\"\" Conjuectura de Collatz\n",
        "todos os inteiros positivos irão eventualmente convergir para 1 usando a regra do Collatz.\n",
        "\n",
        "n = numero a ser escolhido\n",
        "\"\"\"\n",
        "def Collatz(n) :\n",
        "    if n % 2 == 0 :\n",
        "        n = n/2  \n",
        "        return n         \n",
        "    elif n % 2 == 1 :\n",
        "        n=3*n+1\n",
        "        return n\n",
        "\n",
        "n=int(input('escolha um numero :'))\n",
        "\n",
        "if n < 0 :\n",
        "    print(\"a regra de Collatz só vale para numeros positivos\")\n",
        "    exit\n",
        "else :\n",
        "  while n != 1 :\n",
        "      n = Collatz(n)            \n",
        "      print(n)        \n"
      ],
      "execution_count": null,
      "outputs": []
    },
    {
      "cell_type": "code",
      "metadata": {
        "id": "wV6edqd5Lo1Y"
      },
      "source": [
        "## exercicio 2\n",
        "\n",
        "def counter(n):\n",
        "    count = 0\n",
        "    count_0_5 = 0\n",
        "    while n!=0:\n",
        "        count = count + 1      \n",
        "\n",
        "        if n % 5 == 0 :\n",
        "          count_0_5 = count_0_5 + 1 \n",
        "\n",
        "        n = n // 10    \n",
        "    \n",
        "    return count_0_5\n"
      ],
      "execution_count": null,
      "outputs": []
    },
    {
      "cell_type": "code",
      "metadata": {
        "id": "rSg0ShH3PGbD"
      },
      "source": [
        "## exercicio 3\n",
        "\n",
        "def f(x) :\n",
        "   \n",
        "    for i in x :\n",
        "        if i % 2 == 1:  \n",
        "            break        \n",
        "        print(i) \n",
        "    print(\"done\")\n",
        "\n",
        "f([22,6,6,4,2,8,1,7,8,0,9])"
      ],
      "execution_count": null,
      "outputs": []
    },
    {
      "cell_type": "code",
      "metadata": {
        "id": "BRbLRcKMPufd"
      },
      "source": [
        "## exercicio 4\n",
        "\n",
        "def raiz_quadrada (n) :\n",
        "    aprox = n/2\n",
        "    aprox_melhor = 0\n",
        "    epsilon = abs(aprox_melhor - aprox)\n",
        "\n",
        "    while epsilon >= 10**-3 :\n",
        "        aprox = (aprox + n/aprox)/2\n",
        "        aprox_melhor = (aprox +n/aprox)/2\n",
        "        epsilon = abs(aprox - aprox_melhor)\n",
        "        print(aprox_melhor)\n",
        "\n",
        "\n",
        "raiz_quadrada(144)\n"
      ],
      "execution_count": null,
      "outputs": []
    },
    {
      "cell_type": "markdown",
      "metadata": {
        "id": "qhWuZYfCGCpj"
      },
      "source": [
        "## Exercicio parte 2"
      ]
    },
    {
      "cell_type": "code",
      "metadata": {
        "id": "E1WLLVToGGfQ"
      },
      "source": [
        "## exercicio 1\n",
        "import time\n",
        "\n",
        "def tempo_até_agr() :\n",
        "    dias = (time.time())/(3600*24)\n",
        "    horas = (time.time())/3600\n",
        "    minutos = (time.time())/60\n",
        "    segundos = time.time()\n",
        "    \n",
        "    print(\"dias :\",dias)\n",
        "    print(\"horas :\",horas)\n",
        "    print(\"minutos :\",minutos)\n",
        "    print(\"segundos :\",segundos)\n",
        "\n",
        "tempo_até_agr()\n"
      ],
      "execution_count": null,
      "outputs": []
    },
    {
      "cell_type": "code",
      "metadata": {
        "id": "LdxvOXWTJhP3"
      },
      "source": [
        "## exercicio 2\n",
        "# parte 1\n",
        "\n",
        "def check_fermat(a,b,c,n) :\n",
        "    if n > 2 and a**n + b**n == c**n :\n",
        "        print(\"Holy smokes, Fermat was wrong!\")\n",
        "\n",
        "    else :\n",
        "        print(\"No,that doesn't work.\")\n",
        "\n",
        "check_fermat(1,1,1,1)\n",
        "# parte 2\n",
        "\n",
        "def check_fermat_inteiros(a,b,c,n) :\n",
        "    a_int = a//1\n",
        "    b_int = b//1\n",
        "    c_int = c//1\n",
        "    n_int = n//1\n",
        "    check_fermat(a_int,b_int,c_int,n_int)\n",
        "\n",
        "check_fermat_inteiros(1.3,1.4,1.4,1.5)"
      ],
      "execution_count": null,
      "outputs": []
    },
    {
      "cell_type": "code",
      "metadata": {
        "id": "K9BJOrScN9LK"
      },
      "source": [
        "## exercicio 3\n",
        "# parte 1\n",
        "\n",
        "def is_triangle(a,b,c) :\n",
        "    if a + b < c or a + c < b or b + c < a :\n",
        "        print(\"No\")\n",
        "    elif a + b == c or a + c == b or b + c == a :\n",
        "        print(\"Yes, degenerate triangle\")\n",
        "    else :\n",
        "        print(\"Yes\")\n",
        "\n",
        "\n",
        "is_triangle(5.2,4.2,9.5)\n",
        "\n",
        "## parte 2\n",
        "def is_triangle_inteiros (a,b,c) :\n",
        "    a_int = a//1\n",
        "    b_int = b//1\n",
        "    c_int = c//1\n",
        "    is_triangle(a_int,b_int,c_int) \n",
        "\n",
        "is_triangle_inteiros(3.2,4.3,7.2)"
      ],
      "execution_count": null,
      "outputs": []
    },
    {
      "cell_type": "markdown",
      "metadata": {
        "id": "ONcIHoFvQ2-X"
      },
      "source": [
        "exercicio 4: https://trinket.io/turtle/885713a181, compreendido e executado."
      ]
    },
    {
      "cell_type": "markdown",
      "metadata": {
        "id": "ALeKbJRETDGM"
      },
      "source": [
        "exercicio 5: https://trinket.io/turtle/288889f067"
      ]
    }
  ]
}